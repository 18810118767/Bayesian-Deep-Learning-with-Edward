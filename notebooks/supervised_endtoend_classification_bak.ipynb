{
 "cells": [
  {
   "cell_type": "markdown",
   "metadata": {},
   "source": [
    "## Supervised Example (Neural Network Logistic Regression)"
   ]
  },
  {
   "cell_type": "code",
   "execution_count": 1,
   "metadata": {
    "collapsed": false
   },
   "outputs": [],
   "source": [
    "from __future__ import absolute_import\n",
    "from __future__ import division\n",
    "from __future__ import print_function\n",
    "\n",
    "import edward as ed\n",
    "import numpy as np\n",
    "import six\n",
    "import tensorflow as tf\n",
    "\n",
    "from edward.models import Normal, Bernoulli\n",
    "from edward.stats import norm, bernoulli\n",
    "from edward.util import rbf\n",
    "\n",
    "import matplotlib.pyplot as plt\n",
    "%matplotlib inline\n",
    "plt.style.use(['ggplot', 'seaborn-white'])\n",
    "import itertools\n",
    "\n",
    "import scipy\n",
    "from scipy.stats import gaussian_kde"
   ]
  },
  {
   "cell_type": "code",
   "execution_count": 2,
   "metadata": {
    "collapsed": false
   },
   "outputs": [],
   "source": [
    "ed.set_seed(42)"
   ]
  },
  {
   "cell_type": "code",
   "execution_count": null,
   "metadata": {
    "collapsed": true
   },
   "outputs": [],
   "source": []
  },
  {
   "cell_type": "code",
   "execution_count": 3,
   "metadata": {
    "collapsed": false
   },
   "outputs": [
    {
     "data": {
      "image/png": "[encoded data removed]",
      "text/plain": [
       "<matplotlib.figure.Figure at 0x127234ed0>"
      ]
     },
     "metadata": {},
     "output_type": "display_data"
    }
   ],
   "source": [
    "N = 100\n",
    "D = 2\n",
    "\n",
    "px1 = np.linspace(-3, 3, 50)\n",
    "px2 = np.linspace(-3, 3, 50)\n",
    "\n",
    "px1_m, px2_m = np.mgrid[-3:3:50j, -3:3:50j]\n",
    "\n",
    "xeval = np.vstack((px1_m.flatten(), px2_m.flatten())).T\n",
    "x_viz = tf.constant(np.array(xeval, dtype='float32'))\n",
    "\n",
    "def build_toy_dataset(N):\n",
    "  x = xeval[np.random.randint(xeval.shape[0],size=N),:]\n",
    "  y = bernoulli.rvs( p=scipy.stats.logistic.cdf( 5*x[:,0]**2 + 5*x[:,1]**3 ) ) \n",
    "  return x, y\n",
    "\n",
    "x_train, y_train = build_toy_dataset(N,)\n",
    "\n",
    "fig = plt.figure(figsize=(5 ,5))\n",
    "ax = plt.subplot()\n",
    "\n",
    "ax.scatter(x_train[(y_train==1)[0], 0], x_train[(y_train==1)[0],  1], color='b')\n",
    "ax.scatter(x_train[(y_train==0)[0], 0], x_train[(y_train==0)[0],  1], color='r')\n",
    "\n",
    "gif = plt.show()"
   ]
  },
  {
   "cell_type": "markdown",
   "metadata": {
    "collapsed": true
   },
   "source": [
    "### Load Crabs Dataset"
   ]
  },
  {
   "cell_type": "code",
   "execution_count": 3,
   "metadata": {
    "collapsed": false
   },
   "outputs": [],
   "source": [
    "# N = 100\n",
    "# D = 5\n",
    "# df = np.loadtxt('crabs_train.txt', dtype='float32', delimiter=',')\n",
    "# x_train = df[:, 1:]\n",
    "\n",
    "# # subtract mean of each column\n",
    "# x_col_offset = np.mean(x_train, axis=0)\n",
    "# x_train = x_train - x_col_offset\n",
    "\n",
    "# y_train = df[:, 0].astype(int)\n",
    "# y_train[y_train==-1] = 0\n",
    "# y_train = np.atleast_2d(y_train)"
   ]
  },
  {
   "cell_type": "code",
   "execution_count": 4,
   "metadata": {
    "collapsed": false
   },
   "outputs": [],
   "source": [
    "# N = 178\n",
    "# D = 13\n",
    "# df = np.loadtxt('wine.data.txt', dtype='float32', delimiter=',')\n",
    "# x_train = df[:, 1:]\n",
    "\n",
    "# # subtract mean of each column\n",
    "# x_col_offset = np.mean(x_train, axis=0)\n",
    "# x_train = x_train - x_col_offset\n",
    "\n",
    "# y_train = df[:, 0].astype(int)\n",
    "# y_train[y_train==2] = 0\n",
    "# y_train[y_train==3] = 0\n",
    "# y_train = np.atleast_2d(y_train)"
   ]
  },
  {
   "cell_type": "code",
   "execution_count": 77,
   "metadata": {
    "collapsed": false
   },
   "outputs": [],
   "source": [
    "N = 200\n",
    "D = 2\n",
    "x_train = np.loadtxt('x.csv', dtype='float32', delimiter=',')\n",
    "y_train = np.loadtxt('y.csv', dtype='int', delimiter=',')\n",
    "y_train = np.atleast_2d(y_train)"
   ]
  },
  {
   "cell_type": "markdown",
   "metadata": {},
   "source": [
    "### Plots (just to get a feel for dataset)"
   ]
  },
  {
   "cell_type": "code",
   "execution_count": 78,
   "metadata": {
    "collapsed": false
   },
   "outputs": [
    {
     "data": {
      "image/png": "[encoded data removed]",
      "text/plain": [
       "<matplotlib.figure.Figure at 0x11d7add90>"
      ]
     },
     "metadata": {},
     "output_type": "display_data"
    }
   ],
   "source": [
    "fig = plt.figure(figsize=(2,2))\n",
    "ax = plt.subplot()\n",
    "\n",
    "ax.scatter(x_train[(y_train==1)[0], 0], x_train[(y_train==1)[0],  1], color='b')\n",
    "ax.scatter(x_train[(y_train==0)[0], 0], x_train[(y_train==0)[0],  1], color='r')\n",
    "\n",
    "ax.set_xlabel('Dim '+str(0))\n",
    "ax.set_ylabel('Dim '+str(1))\n",
    "\n",
    "gif = plt.plot "
   ]
  },
  {
   "cell_type": "code",
   "execution_count": 9,
   "metadata": {
    "collapsed": false,
    "scrolled": false
   },
   "outputs": [],
   "source": [
    "# for out_dim in range(D):\n",
    "#     for dim in [0]:\n",
    "#         fig = plt.figure(figsize=(2,2))\n",
    "#         ax = plt.subplot()\n",
    "\n",
    "#         ax.scatter(x_train[(y_train==1)[0], out_dim], x_train[(y_train==1)[0],  dim], color='b')\n",
    "#         ax.scatter(x_train[(y_train==0)[0], out_dim], x_train[(y_train==0)[0],  dim], color='r')\n",
    "\n",
    "#         ax.set_xlabel('Dim '+str(out_dim))\n",
    "#         ax.set_ylabel('Dim '+str(dim))\n",
    "\n",
    "#         gif = plt.plot "
   ]
  },
  {
   "cell_type": "markdown",
   "metadata": {
    "collapsed": true
   },
   "source": [
    "### Define Neural Network Logistic Model"
   ]
  },
  {
   "cell_type": "code",
   "execution_count": 68,
   "metadata": {
    "collapsed": true
   },
   "outputs": [],
   "source": [
    "# def neural_network(x, W_0, W_1, b_0, b_1):\n",
    "#     h = tf.nn.tanh(tf.matmul(x, W_0) + b_0)\n",
    "#     h = tf.matmul(h, W_1) + b_1\n",
    "#     return tf.reshape(h, [-1])\n",
    "\n",
    "# L = 50\n",
    "\n",
    "# W_0 = Normal(mu=tf.zeros([D, L]), sigma=tf.ones([D, L]))\n",
    "# W_1 = Normal(mu=tf.zeros([L, 1]), sigma=tf.ones([L, 1]))\n",
    "# b_0 = Normal(mu=tf.zeros(L), sigma=tf.ones(L))\n",
    "# b_1 = Normal(mu=tf.zeros(1), sigma=tf.ones(1))\n",
    "\n",
    "# x = tf.convert_to_tensor(x_train, dtype=tf.float32)\n",
    "# y = Bernoulli(logits=neural_network(x, W_0, W_1, b_0, b_1))"
   ]
  },
  {
   "cell_type": "markdown",
   "metadata": {},
   "source": [
    "### Define Variational Approximation Distributions"
   ]
  },
  {
   "cell_type": "code",
   "execution_count": 69,
   "metadata": {
    "collapsed": true
   },
   "outputs": [],
   "source": [
    "# qW_0 = Normal(mu=tf.Variable(tf.random_normal([D, L])),\n",
    "#               sigma=tf.nn.softplus(tf.Variable(tf.random_normal([D, L]))))\n",
    "# qW_1 = Normal(mu=tf.Variable(tf.random_normal([L, 1])),\n",
    "#               sigma=tf.nn.softplus(tf.Variable(tf.random_normal([L, 1]))))\n",
    "# qb_0 = Normal(mu=tf.Variable(tf.random_normal([L])),\n",
    "#               sigma=tf.nn.softplus(tf.Variable(tf.random_normal([L]))))\n",
    "# qb_1 = Normal(mu=tf.Variable(tf.random_normal([1])),\n",
    "#               sigma=tf.nn.softplus(tf.Variable(tf.random_normal([1]))))\n",
    "\n",
    "# data = {y: y_train}\n",
    "# inference = ed.MFVI({W_0: qW_0, b_0: qb_0,\n",
    "#                      W_1: qW_1, b_1: qb_1}, data)"
   ]
  },
  {
   "cell_type": "code",
   "execution_count": null,
   "metadata": {
    "collapsed": true
   },
   "outputs": [],
   "source": []
  },
  {
   "cell_type": "markdown",
   "metadata": {
    "collapsed": true
   },
   "source": [
    "### Define Neural Network Logistic Model"
   ]
  },
  {
   "cell_type": "code",
   "execution_count": 35,
   "metadata": {
    "collapsed": true
   },
   "outputs": [],
   "source": [
    "def neural_network(x, W_0, W_1, W_2, b_0, b_1, b_2):\n",
    "    h = tf.nn.tanh(tf.matmul(x, W_0) + b_0)\n",
    "    h = tf.nn.tanh(tf.matmul(h, W_1) + b_1)\n",
    "    h = tf.matmul(h, W_2) + b_2\n",
    "    return tf.reshape(h, [-1])\n",
    "\n",
    "L = 2\n",
    "\n",
    "W_0 = Normal(mu=tf.zeros([D, L]), sigma=tf.ones([D, L]))\n",
    "W_1 = Normal(mu=tf.zeros([L, L]), sigma=tf.ones([L, L]))\n",
    "W_2 = Normal(mu=tf.zeros([L, 1]), sigma=tf.ones([L, 1]))\n",
    "b_0 = Normal(mu=tf.zeros(L), sigma=tf.ones(L))\n",
    "b_1 = Normal(mu=tf.zeros(L), sigma=tf.ones(L))\n",
    "b_2 = Normal(mu=tf.zeros(1), sigma=tf.ones(1))\n",
    "\n",
    "x = tf.convert_to_tensor(x_train, dtype=tf.float32)\n",
    "y = Bernoulli(logits=neural_network(x, W_0, W_1, W_2, b_0, b_1, b_2))"
   ]
  },
  {
   "cell_type": "markdown",
   "metadata": {},
   "source": [
    "### Define Variational Approximation Distributions"
   ]
  },
  {
   "cell_type": "code",
   "execution_count": 36,
   "metadata": {
    "collapsed": true
   },
   "outputs": [],
   "source": [
    "qW_0 = Normal(mu=tf.Variable(tf.random_normal([D, L])),\n",
    "              sigma=tf.nn.softplus(tf.Variable(tf.random_normal([D, L]))))\n",
    "qW_1 = Normal(mu=tf.Variable(tf.random_normal([L, L])),\n",
    "              sigma=tf.nn.softplus(tf.Variable(tf.random_normal([L, L]))))\n",
    "qW_2 = Normal(mu=tf.Variable(tf.random_normal([L, 1])),\n",
    "              sigma=tf.nn.softplus(tf.Variable(tf.random_normal([L, 1]))))\n",
    "qb_0 = Normal(mu=tf.Variable(tf.random_normal([L])),\n",
    "              sigma=tf.nn.softplus(tf.Variable(tf.random_normal([L]))))\n",
    "qb_1 = Normal(mu=tf.Variable(tf.random_normal([L])),\n",
    "              sigma=tf.nn.softplus(tf.Variable(tf.random_normal([L]))))\n",
    "qb_2 = Normal(mu=tf.Variable(tf.random_normal([1])),\n",
    "              sigma=tf.nn.softplus(tf.Variable(tf.random_normal([1]))))\n",
    "\n",
    "data = {y: y_train}\n",
    "inference = ed.MFVI({W_0: qW_0, b_0: qb_0,\n",
    "                     W_1: qW_1, b_1: qb_1,\n",
    "                     W_2: qW_2, b_2: qb_2}, data)"
   ]
  },
  {
   "cell_type": "markdown",
   "metadata": {},
   "source": [
    "### Run Variational Inference"
   ]
  },
  {
   "cell_type": "code",
   "execution_count": 37,
   "metadata": {
    "collapsed": false
   },
   "outputs": [
    {
     "name": "stdout",
     "output_type": "stream",
     "text": [
      "Iteration    1 [  0%]: Loss = 121.219\n",
      "Iteration  100 [ 10%]: Loss = 40.814\n",
      "Iteration  200 [ 20%]: Loss = 42.351\n",
      "Iteration  300 [ 30%]: Loss = 35.866\n",
      "Iteration  400 [ 40%]: Loss = 36.843\n",
      "Iteration  500 [ 50%]: Loss = 38.061\n",
      "Iteration  600 [ 60%]: Loss = 38.499\n",
      "Iteration  700 [ 70%]: Loss = 37.292\n",
      "Iteration  800 [ 80%]: Loss = 37.728\n",
      "Iteration  900 [ 90%]: Loss = 37.754\n",
      "Iteration 1000 [100%]: Loss = 39.351\n"
     ]
    }
   ],
   "source": [
    "sess = ed.get_session()\n",
    "init = tf.initialize_all_variables()\n",
    "inference.run(n_iter=1000, n_print=100, n_samples=5)"
   ]
  },
  {
   "cell_type": "markdown",
   "metadata": {},
   "source": [
    "### Model Criticism (point-wise evaluations)"
   ]
  },
  {
   "cell_type": "code",
   "execution_count": 38,
   "metadata": {
    "collapsed": true
   },
   "outputs": [],
   "source": [
    "y_post = ed.copy(y, {W_0: qW_0.mean(), b_0: qb_0.mean(),       \n",
    "                     W_1: qW_1.mean(), b_1: qb_1.mean(),\n",
    "                     W_2: qW_2.mean(), b_1: qb_2.mean()})"
   ]
  },
  {
   "cell_type": "code",
   "execution_count": 39,
   "metadata": {
    "collapsed": false
   },
   "outputs": [
    {
     "data": {
      "text/plain": [
       "array([ 0.10973693,  0.98772508,  0.98755193,  0.98772496,  0.98771626,\n",
       "        0.78482497,  0.68464094,  0.98772115,  0.96373469,  0.98766184,\n",
       "        0.98689783,  0.95056796,  0.98768312,  0.59232724,  0.98757124,\n",
       "        0.11396401,  0.95423508,  0.11122359,  0.10868243,  0.84876531,\n",
       "        0.98770124,  0.11657365,  0.9369607 ,  0.10943945,  0.98772407,\n",
       "        0.94276375,  0.9876408 ,  0.98772383,  0.97755814,  0.10920129,\n",
       "        0.98665452,  0.1318657 ,  0.98772508,  0.11582492,  0.98693514,\n",
       "        0.98772198,  0.68655759,  0.50453436,  0.98772532,  0.97698319,\n",
       "        0.10865898,  0.61228037,  0.13865934,  0.9874723 ,  0.98770511,\n",
       "        0.10977755,  0.987638  ,  0.98772371,  0.98713303,  0.9653886 ,\n",
       "        0.96319348,  0.1107716 ,  0.10951069,  0.98769975,  0.56676435,\n",
       "        0.9874292 ,  0.10860919,  0.10868201,  0.98771966,  0.98717135,\n",
       "        0.46855229,  0.10936289,  0.98415691,  0.9877246 ,  0.78292459,\n",
       "        0.13060403,  0.10971616,  0.98339236,  0.11851638,  0.98768175,\n",
       "        0.98668784,  0.98508596,  0.98485965,  0.98771489,  0.57758361,\n",
       "        0.11788027,  0.98579514,  0.96189505,  0.98768985,  0.98758286,\n",
       "        0.16286464,  0.89154184,  0.11674421,  0.1086086 ,  0.93467146,\n",
       "        0.9877252 ,  0.10934665,  0.69033998,  0.98762894,  0.98772532,\n",
       "        0.8828007 ,  0.98542482,  0.95649821,  0.98772472,  0.89642239,\n",
       "        0.98762041,  0.97784251,  0.10909665,  0.12840198,  0.98468125], dtype=float32)"
      ]
     },
     "execution_count": 39,
     "metadata": {},
     "output_type": "execute_result"
    }
   ],
   "source": [
    "# Plugin estimate of posterior predictive evaluated on training data\n",
    "y_post.mean().eval()"
   ]
  },
  {
   "cell_type": "code",
   "execution_count": 40,
   "metadata": {
    "collapsed": false
   },
   "outputs": [
    {
     "name": "stdout",
     "output_type": "stream",
     "text": [
      "Log likelihood on training data:\n",
      "-0.240673\n",
      "\n",
      "Binary accuracy on training data:\n",
      "0.87\n"
     ]
    }
   ],
   "source": [
    "print('Log likelihood on training data:')\n",
    "print(ed.evaluate('log_lik', data={x: x_train, y_post: y_train}))\n",
    "print()\n",
    "print('Binary accuracy on training data:')\n",
    "print(ed.evaluate('binary_accuracy', data={x: x_train, y_post: y_train}))"
   ]
  },
  {
   "cell_type": "code",
   "execution_count": 41,
   "metadata": {
    "collapsed": false
   },
   "outputs": [],
   "source": [
    "posterior_mean = tf.sigmoid(neural_network(x_viz, qW_0.mean(), qW_1.mean(), qW_2.mean(), \n",
    "                                                  qb_0.mean(), qb_1.mean(), qb_2.mean())).eval()\n",
    "posterior_mean = posterior_mean.reshape(px1.size, px2.size)"
   ]
  },
  {
   "cell_type": "code",
   "execution_count": 42,
   "metadata": {
    "collapsed": false
   },
   "outputs": [
    {
     "data": {
      "image/png": "[encoded data removed]",
      "text/plain": [
       "<matplotlib.figure.Figure at 0x12db096d0>"
      ]
     },
     "metadata": {},
     "output_type": "display_data"
    }
   ],
   "source": [
    "fig = plt.figure(figsize=(5, 5))\n",
    "ax = plt.subplot()\n",
    "\n",
    "ax.scatter(x_train[(y_train==1)[0], 0], x_train[(y_train==1)[0],  1], color='b')\n",
    "ax.scatter(x_train[(y_train==0)[0], 0], x_train[(y_train==0)[0],  1], color='r')\n",
    "\n",
    "ax.set_xlabel('Dim '+str(0))\n",
    "ax.set_ylabel('Dim '+str(1))\n",
    "\n",
    "for x1 in range(px1.size):\n",
    "  for x2 in range(px2.size):\n",
    "    ax.scatter(px1[x1], px2[x2], s=3, color='k', alpha=posterior_mean[x1, x2])\n",
    "    \n",
    "gif = plt.plot"
   ]
  },
  {
   "cell_type": "code",
   "execution_count": null,
   "metadata": {
    "collapsed": true
   },
   "outputs": [],
   "source": []
  },
  {
   "cell_type": "markdown",
   "metadata": {},
   "source": [
    "### Define Vanilla Logistic Regression"
   ]
  },
  {
   "cell_type": "code",
   "execution_count": 43,
   "metadata": {
    "collapsed": true
   },
   "outputs": [],
   "source": [
    "W = Normal(mu=tf.zeros(D), sigma=tf.ones(D))\n",
    "b = Normal(mu=tf.zeros(1), sigma=tf.ones(1))\n",
    "\n",
    "x = tf.convert_to_tensor(x_train, dtype=tf.float32)\n",
    "y = Bernoulli(logits=(ed.dot(x, W) + b))"
   ]
  },
  {
   "cell_type": "code",
   "execution_count": 44,
   "metadata": {
    "collapsed": true
   },
   "outputs": [],
   "source": [
    "qW = Normal(mu=tf.Variable(tf.random_normal([D])),\n",
    "            sigma=tf.nn.softplus(tf.Variable(tf.random_normal([D]))))\n",
    "qb = Normal(mu=tf.Variable(tf.random_normal([1])),\n",
    "            sigma=tf.nn.softplus(tf.Variable(tf.random_normal([1]))))"
   ]
  },
  {
   "cell_type": "code",
   "execution_count": 45,
   "metadata": {
    "collapsed": false
   },
   "outputs": [],
   "source": [
    "data = {y: y_train}\n",
    "inference = ed.MFVI({W: qW, b: qb}, data)"
   ]
  },
  {
   "cell_type": "code",
   "execution_count": 46,
   "metadata": {
    "collapsed": false
   },
   "outputs": [
    {
     "name": "stdout",
     "output_type": "stream",
     "text": [
      "Iteration    1 [  0%]: Loss = 64.174\n",
      "Iteration  100 [ 10%]: Loss = 29.199\n",
      "Iteration  200 [ 20%]: Loss = 29.967\n",
      "Iteration  300 [ 30%]: Loss = 28.694\n",
      "Iteration  400 [ 40%]: Loss = 31.485\n",
      "Iteration  500 [ 50%]: Loss = 29.314\n",
      "Iteration  600 [ 60%]: Loss = 28.665\n",
      "Iteration  700 [ 70%]: Loss = 29.391\n",
      "Iteration  800 [ 80%]: Loss = 29.584\n",
      "Iteration  900 [ 90%]: Loss = 28.498\n",
      "Iteration 1000 [100%]: Loss = 29.621\n"
     ]
    }
   ],
   "source": [
    "sess = ed.get_session()\n",
    "init = tf.initialize_all_variables()\n",
    "inference.run(n_iter=1000, n_print=100, n_samples=5)"
   ]
  },
  {
   "cell_type": "code",
   "execution_count": 47,
   "metadata": {
    "collapsed": true
   },
   "outputs": [],
   "source": [
    "y_post = ed.copy(y, {W_0: qW_0.mean(), b_0: qb_0.mean(),       \n",
    "                     W_1: qW_1.mean(), b_1: qb_1.mean(),\n",
    "                     W_2: qW_2.mean(), b_1: qb_2.mean()})"
   ]
  },
  {
   "cell_type": "code",
   "execution_count": 48,
   "metadata": {
    "collapsed": false
   },
   "outputs": [
    {
     "data": {
      "text/plain": [
       "array([ 0.54161942,  0.57740772,  0.55799675,  0.64430988,  0.43412241,\n",
       "        0.20413727,  0.69202965,  0.56451452,  0.78281516,  0.45349759,\n",
       "        0.27292174,  0.82410711,  0.40378383,  0.61664015,  0.23335001,\n",
       "        0.35731554,  0.1958136 ,  0.45174626,  0.48431015,  0.18864517,\n",
       "        0.56125826,  0.66188788,  0.81731421,  0.12656686,  0.74885374,\n",
       "        0.72456765,  0.58370638,  0.35153505,  0.58206087,  0.2390745 ,\n",
       "        0.83972251,  0.64558369,  0.40704662,  0.44527382,  0.41801628,\n",
       "        0.76922607,  0.22283933,  0.17876923,  0.5917595 ,  0.20209269,\n",
       "        0.57388055,  0.14917099,  0.19987068,  0.83616924,  0.32508406,\n",
       "        0.39419124,  0.28883576,  0.5255273 ,  0.43404835,  0.64417177,\n",
       "        0.85250288,  0.14100248,  0.201947  ,  0.43571162,  0.54658103,\n",
       "        0.55313236,  0.29264981,  0.55130988,  0.25021753,  0.40690121,\n",
       "        0.75110936,  0.69887751,  0.29693323,  0.67376399,  0.16843712,\n",
       "        0.58198762,  0.64403367,  0.48446062,  0.52207595,  0.25265175,\n",
       "        0.80534691,  0.6274941 ,  0.55473018,  0.71274078,  0.1693448 ,\n",
       "        0.58833963,  0.24768674,  0.76796877,  0.78948945,  0.54176897,\n",
       "        0.20303994,  0.78495508,  0.41315833,  0.40512374,  0.26770106,\n",
       "        0.51738399,  0.45334828,  0.38956812,  0.80741316,  0.46664685,\n",
       "        0.71393996,  0.22750981,  0.7644397 ,  0.42454278,  0.21174075,\n",
       "        0.29834804,  0.24889365,  0.69471532,  0.25248113,  0.66202277], dtype=float32)"
      ]
     },
     "execution_count": 48,
     "metadata": {},
     "output_type": "execute_result"
    }
   ],
   "source": [
    "# Plugin estimate of posterior predictive evaluated on training data\n",
    "y_post.mean().eval()"
   ]
  },
  {
   "cell_type": "code",
   "execution_count": 49,
   "metadata": {
    "collapsed": false
   },
   "outputs": [
    {
     "name": "stdout",
     "output_type": "stream",
     "text": [
      "Log likelihood on training data:\n",
      "-1.01378\n",
      "\n",
      "Binary accuracy on training data:\n",
      "0.7\n"
     ]
    }
   ],
   "source": [
    "print('Log likelihood on training data:')\n",
    "print(ed.evaluate('log_lik', data={x: x_train, y_post: y_train}))\n",
    "print()\n",
    "print('Binary accuracy on training data:')\n",
    "print(ed.evaluate('binary_accuracy', data={x: x_train, y_post: y_train}))"
   ]
  },
  {
   "cell_type": "code",
   "execution_count": 53,
   "metadata": {
    "collapsed": false
   },
   "outputs": [],
   "source": [
    "posterior_mean = tf.sigmoid(ed.dot(x_viz, qW.mean())+ qb.mean()).eval()\n",
    "posterior_mean = posterior_mean.reshape(px1.size, px2.size)"
   ]
  },
  {
   "cell_type": "code",
   "execution_count": 54,
   "metadata": {
    "collapsed": false
   },
   "outputs": [
    {
     "data": {
      "image/png": "[encoded data removed]",
      "text/plain": [
       "<matplotlib.figure.Figure at 0x1384bc710>"
      ]
     },
     "metadata": {},
     "output_type": "display_data"
    }
   ],
   "source": [
    "fig = plt.figure(figsize=(5, 5))\n",
    "ax = plt.subplot()\n",
    "\n",
    "ax.scatter(x_train[(y_train==1)[0], 0], x_train[(y_train==1)[0],  1], color='b')\n",
    "ax.scatter(x_train[(y_train==0)[0], 0], x_train[(y_train==0)[0],  1], color='r')\n",
    "\n",
    "ax.set_xlabel('Dim '+str(0))\n",
    "ax.set_ylabel('Dim '+str(1))\n",
    "\n",
    "for x1 in range(px1.size):\n",
    "  for x2 in range(px2.size):\n",
    "    ax.scatter(px1[x1], px2[x2], s=3, color='k', alpha=posterior_mean[x1, x2])\n",
    "    \n",
    "gif = plt.plot"
   ]
  },
  {
   "cell_type": "code",
   "execution_count": null,
   "metadata": {
    "collapsed": true
   },
   "outputs": [],
   "source": []
  },
  {
   "cell_type": "code",
   "execution_count": null,
   "metadata": {
    "collapsed": true
   },
   "outputs": [],
   "source": []
  },
  {
   "cell_type": "markdown",
   "metadata": {},
   "source": [
    "### Load testing dataset"
   ]
  },
  {
   "cell_type": "code",
   "execution_count": 23,
   "metadata": {
    "collapsed": false
   },
   "outputs": [
    {
     "ename": "ValueError",
     "evalue": "operands could not be broadcast together with shapes (100,5) (2,) ",
     "output_type": "error",
     "traceback": [
      "\u001b[0;31m---------------------------------------------------------------------------\u001b[0m",
      "\u001b[0;31mValueError\u001b[0m                                Traceback (most recent call last)",
      "\u001b[0;32m<ipython-input-23-5dad4577cad5>\u001b[0m in \u001b[0;36m<module>\u001b[0;34m()\u001b[0m\n\u001b[1;32m      2\u001b[0m \u001b[0mx_test\u001b[0m \u001b[0;34m=\u001b[0m \u001b[0mdf\u001b[0m\u001b[0;34m[\u001b[0m\u001b[0;34m:\u001b[0m\u001b[0;34m,\u001b[0m \u001b[0;36m1\u001b[0m\u001b[0;34m:\u001b[0m\u001b[0;34m]\u001b[0m\u001b[0;34m\u001b[0m\u001b[0m\n\u001b[1;32m      3\u001b[0m \u001b[0;34m\u001b[0m\u001b[0m\n\u001b[0;32m----> 4\u001b[0;31m \u001b[0mx_test\u001b[0m \u001b[0;34m=\u001b[0m \u001b[0mx_test\u001b[0m \u001b[0;34m-\u001b[0m \u001b[0mx_col_offset\u001b[0m\u001b[0;34m\u001b[0m\u001b[0m\n\u001b[0m\u001b[1;32m      5\u001b[0m \u001b[0my_test\u001b[0m \u001b[0;34m=\u001b[0m \u001b[0mdf\u001b[0m\u001b[0;34m[\u001b[0m\u001b[0;34m:\u001b[0m\u001b[0;34m,\u001b[0m \u001b[0;36m0\u001b[0m\u001b[0;34m]\u001b[0m\u001b[0;34m.\u001b[0m\u001b[0mastype\u001b[0m\u001b[0;34m(\u001b[0m\u001b[0mint\u001b[0m\u001b[0;34m)\u001b[0m\u001b[0;34m\u001b[0m\u001b[0m\n\u001b[1;32m      6\u001b[0m \u001b[0my_test\u001b[0m\u001b[0;34m[\u001b[0m\u001b[0my_test\u001b[0m\u001b[0;34m==\u001b[0m\u001b[0;34m-\u001b[0m\u001b[0;36m1\u001b[0m\u001b[0;34m]\u001b[0m \u001b[0;34m=\u001b[0m \u001b[0;36m0\u001b[0m\u001b[0;34m\u001b[0m\u001b[0m\n",
      "\u001b[0;31mValueError\u001b[0m: operands could not be broadcast together with shapes (100,5) (2,) "
     ]
    }
   ],
   "source": [
    "df = np.loadtxt('crabs_test.txt', dtype='float32', delimiter=',')\n",
    "x_test = df[:, 1:]\n",
    "\n",
    "x_test = x_test - x_col_offset\n",
    "y_test = df[:, 0].astype(int)\n",
    "y_test[y_test==-1] = 0\n",
    "y_test = np.atleast_2d(y_test)"
   ]
  },
  {
   "cell_type": "code",
   "execution_count": 13,
   "metadata": {
    "collapsed": false
   },
   "outputs": [
    {
     "data": {
      "text/plain": [
       "array([ 0.87313414,  0.87313414,  0.87313414,  0.87313414,  0.19772668,\n",
       "        0.87313414,  0.87313414,  0.87313414,  0.87313414,  0.87313414,\n",
       "        0.87313414,  0.87313414,  0.87313414,  0.87313414,  0.87313414,\n",
       "        0.87313414,  0.87313414,  0.87313414,  0.87313414,  0.87313414,\n",
       "        0.87313414,  0.87319708,  0.87313414,  0.87313414,  0.87313414,\n",
       "        0.87313414,  0.87313414,  0.87313414,  0.87313414,  0.87313414,\n",
       "        0.87313414,  0.87313414,  0.87313414,  0.87313414,  0.87313414,\n",
       "        0.87313414,  0.87313414,  0.87313414,  0.87313414,  0.8752957 ,\n",
       "        0.87313414,  0.87313414,  0.87313414,  0.02003812,  0.87313414,\n",
       "        0.87313414,  0.87313414,  0.87313414,  0.87313414,  0.87313414,\n",
       "        0.87313414,  0.87313414,  0.87313414,  0.87313414,  0.87313414,\n",
       "        0.87313414,  0.87313414,  0.87313414,  0.87313414,  0.02003813,\n",
       "        0.02003813,  0.02003813,  0.02003813,  0.02003813,  0.02003813,\n",
       "        0.02003813,  0.02003813,  0.02003813,  0.84024853,  0.19751029,\n",
       "        0.87313414,  0.02003813,  0.02003813,  0.87313414,  0.87313414,\n",
       "        0.02003813,  0.02003813,  0.02003813,  0.48430467,  0.02003813,\n",
       "        0.02003813,  0.02003812,  0.02003813,  0.02003813,  0.02003813,\n",
       "        0.02003813,  0.02003813,  0.02003813,  0.02003813,  0.02003813,\n",
       "        0.02003813,  0.02003813,  0.02003813,  0.02003813,  0.02003813,\n",
       "        0.87313414,  0.02003811,  0.02003813,  0.02003813,  0.02003813,\n",
       "        0.02003782,  0.02003813,  0.02003813,  0.02003813,  0.02003813,\n",
       "        0.02003813,  0.02003813,  0.02003813,  0.02003813,  0.02003813,\n",
       "        0.02003813,  0.02003813,  0.02003813,  0.02003813,  0.02003813,\n",
       "        0.02003813,  0.02003813,  0.02003813,  0.02003813,  0.02003813,\n",
       "        0.02003813,  0.02003813,  0.02003813,  0.02003813,  0.02003813,\n",
       "        0.02003813,  0.02003813,  0.02003813,  0.02003813,  0.02003813,\n",
       "        0.02003813,  0.02003813,  0.02003813,  0.02003813,  0.02003813,\n",
       "        0.02003812,  0.02003786,  0.02003813,  0.02003813,  0.02003813,\n",
       "        0.02003813,  0.87368965,  0.02003813,  0.02003813,  0.87313414,\n",
       "        0.87313414,  0.02003813,  0.02003813,  0.02003813,  0.02003813,\n",
       "        0.02003813,  0.02003813,  0.02003813,  0.02003813,  0.02003813,\n",
       "        0.02003067,  0.02003813,  0.87313414,  0.02003813,  0.02003813,\n",
       "        0.02003813,  0.02003804,  0.02003813,  0.02003811,  0.02003813,\n",
       "        0.02003813,  0.02001111,  0.02003813,  0.47256339,  0.02003813,\n",
       "        0.02003813,  0.02003813,  0.02003813,  0.01970622,  0.62869805,\n",
       "        0.87313414,  0.87313414,  0.02003813], dtype=float32)"
      ]
     },
     "execution_count": 13,
     "metadata": {},
     "output_type": "execute_result"
    }
   ],
   "source": [
    "# Plugin estimate of posterior predictive evaluated on testing data\n",
    "y_post = ed.copy(y, {W_0: qW_0.mean(), b_0: qb_0.mean(),       \n",
    "                     W_1: qW_1.mean(), b_1: qb_1.mean(),\n",
    "                     x: x_test})\n",
    "y_post.mean().eval()"
   ]
  },
  {
   "cell_type": "code",
   "execution_count": 13,
   "metadata": {
    "collapsed": false
   },
   "outputs": [
    {
     "name": "stdout",
     "output_type": "stream",
     "text": [
      "Log likelihood on testing data:\n",
      "-0.139373\n",
      "\n",
      "Binary accuracy on testing data:\n",
      "0.95\n"
     ]
    }
   ],
   "source": [
    "print('Log likelihood on testing data:')\n",
    "print(ed.evaluate('log_lik', data={x: x_test, y_post: y_test}))\n",
    "print()\n",
    "print('Binary accuracy on testing data:')\n",
    "print(ed.evaluate('binary_accuracy', data={x: x_test, y_post: y_test}))"
   ]
  },
  {
   "cell_type": "markdown",
   "metadata": {},
   "source": [
    "### Visualize posterior mean probability"
   ]
  },
  {
   "cell_type": "code",
   "execution_count": 14,
   "metadata": {
    "collapsed": false
   },
   "outputs": [
    {
     "name": "stdout",
     "output_type": "stream",
     "text": [
      "[ -1.97061443e+00  -1.59634805e+00  -1.00651848e+00  -8.89494514e+00\n",
      "  -2.97415695e+01  -1.31511211e+00  -1.68926990e+00  -2.31853962e-01\n",
      "  -1.18089926e+00  -3.77808976e+00  -4.77449566e-01  -1.34168434e+00\n",
      "  -4.68893250e+02]\n",
      "[  1.82938576e+00   3.46365213e+00   8.63481522e-01   1.05050545e+01\n",
      "   6.22584305e+01   1.58488798e+00   3.05072999e+00   2.98146069e-01\n",
      "   1.98910069e+00   7.94191027e+00   7.52550483e-01   1.38831568e+00\n",
      "   9.33106750e+02]\n"
     ]
    }
   ],
   "source": [
    "print(np.min(x_train, axis=0))\n",
    "print(np.max(x_train, axis=0))"
   ]
  },
  {
   "cell_type": "code",
   "execution_count": 52,
   "metadata": {
    "collapsed": false
   },
   "outputs": [
    {
     "ename": "AttributeError",
     "evalue": "'Tensor' object has no attribute 'shape'",
     "output_type": "error",
     "traceback": [
      "\u001b[0;31m---------------------------------------------------------------------------\u001b[0m",
      "\u001b[0;31mAttributeError\u001b[0m                            Traceback (most recent call last)",
      "\u001b[0;32m<ipython-input-52-b74256477c24>\u001b[0m in \u001b[0;36m<module>\u001b[0;34m()\u001b[0m\n\u001b[1;32m      7\u001b[0m   \u001b[0minputs\u001b[0m\u001b[0;34m[\u001b[0m\u001b[0;34m:\u001b[0m\u001b[0;34m,\u001b[0m\u001b[0md\u001b[0m\u001b[0;34m]\u001b[0m \u001b[0;34m=\u001b[0m \u001b[0mnp\u001b[0m\u001b[0;34m.\u001b[0m\u001b[0mlinspace\u001b[0m\u001b[0;34m(\u001b[0m\u001b[0mlo_limits\u001b[0m\u001b[0;34m[\u001b[0m\u001b[0md\u001b[0m\u001b[0;34m]\u001b[0m\u001b[0;34m,\u001b[0m \u001b[0mhi_limits\u001b[0m\u001b[0;34m[\u001b[0m\u001b[0md\u001b[0m\u001b[0;34m]\u001b[0m\u001b[0;34m,\u001b[0m \u001b[0mnum\u001b[0m\u001b[0;34m=\u001b[0m\u001b[0mnum\u001b[0m\u001b[0;34m,\u001b[0m \u001b[0mdtype\u001b[0m\u001b[0;34m=\u001b[0m\u001b[0mnp\u001b[0m\u001b[0;34m.\u001b[0m\u001b[0mfloat32\u001b[0m\u001b[0;34m)\u001b[0m\u001b[0;34m\u001b[0m\u001b[0m\n\u001b[1;32m      8\u001b[0m \u001b[0mx_viz\u001b[0m \u001b[0;34m=\u001b[0m \u001b[0mtf\u001b[0m\u001b[0;34m.\u001b[0m\u001b[0mconstant\u001b[0m\u001b[0;34m(\u001b[0m\u001b[0minputs\u001b[0m\u001b[0;34m)\u001b[0m\u001b[0;34m\u001b[0m\u001b[0m\n\u001b[0;32m----> 9\u001b[0;31m \u001b[0;32mprint\u001b[0m\u001b[0;34m(\u001b[0m\u001b[0mx_viz\u001b[0m\u001b[0;34m.\u001b[0m\u001b[0mshape\u001b[0m\u001b[0;34m)\u001b[0m\u001b[0;34m\u001b[0m\u001b[0m\n\u001b[0m",
      "\u001b[0;31mAttributeError\u001b[0m: 'Tensor' object has no attribute 'shape'"
     ]
    }
   ],
   "source": [
    "lo_limits = np.min(x_train, axis=0)\n",
    "hi_limits = np.max(x_train, axis=0)\n",
    "\n",
    "num = 20\n",
    "inputs = np.zeros([num, D], dtype=np.float32)\n",
    "for d in range(D):\n",
    "  inputs[:,d] = np.linspace(lo_limits[d], hi_limits[d], num=num, dtype=np.float32)\n",
    "x_viz = tf.constant(inputs)"
   ]
  },
  {
   "cell_type": "code",
   "execution_count": null,
   "metadata": {
    "collapsed": true
   },
   "outputs": [],
   "source": []
  },
  {
   "cell_type": "code",
   "execution_count": 100,
   "metadata": {
    "collapsed": false
   },
   "outputs": [],
   "source": [
    "xeval = np.loadtxt('xeval.csv', dtype='float32', delimiter=',')\n",
    "xeval = xeval\n",
    "x_viz = tf.constant(xeval)"
   ]
  },
  {
   "cell_type": "code",
   "execution_count": 101,
   "metadata": {
    "collapsed": true
   },
   "outputs": [],
   "source": [
    "px1 = np.loadtxt('px1.csv', dtype='float32', delimiter=',')\n",
    "px2 = np.loadtxt('px2.csv', dtype='float32', delimiter=',')"
   ]
  },
  {
   "cell_type": "code",
   "execution_count": 56,
   "metadata": {
    "collapsed": false
   },
   "outputs": [],
   "source": [
    "px1 = np.linspace(-4, 4, 50)\n",
    "px2 = np.linspace(-4, 4, 50)\n",
    "\n",
    "px1_m, px2_m = np.mgrid[-4:4:50j, -4:4:50j]\n",
    "xeval = np.vstack((px1_m.flatten(), px2_m.flatten())).T\n",
    "xeval_full = np.ones((xeval.shape[0], D), dtype='float32')\n",
    "xeval_full[:xeval.shape[0],:xeval.shape[1]] = xeval\n",
    "x_viz = tf.constant(xeval_full)"
   ]
  },
  {
   "cell_type": "code",
   "execution_count": null,
   "metadata": {
    "collapsed": true
   },
   "outputs": [],
   "source": []
  },
  {
   "cell_type": "code",
   "execution_count": 57,
   "metadata": {
    "collapsed": false
   },
   "outputs": [],
   "source": [
    "# posterior_mean = tf.sigmoid(neural_network(x_viz, qW_0.mean(), qW_1.mean(), qb_0.mean(), qb_1.mean())).eval()\n",
    "posterior_mean = tf.sigmoid(neural_network(x_viz, qW_0.mean(), qW_1.mean(), qW_2.mean(), \n",
    "                                                  qb_0.mean(), qb_1.mean(), qb_2.mean())).eval()"
   ]
  },
  {
   "cell_type": "code",
   "execution_count": 59,
   "metadata": {
    "collapsed": false
   },
   "outputs": [],
   "source": [
    "posterior_mean = posterior_mean.reshape(px1.size, px2.size)"
   ]
  },
  {
   "cell_type": "code",
   "execution_count": 60,
   "metadata": {
    "collapsed": false
   },
   "outputs": [
    {
     "data": {
      "image/png": "[encoded data removed]",
      "text/plain": [
       "<matplotlib.figure.Figure at 0x11e57e150>"
      ]
     },
     "metadata": {},
     "output_type": "display_data"
    }
   ],
   "source": [
    "fig = plt.figure(figsize=(10 ,10))\n",
    "ax = plt.subplot()\n",
    "\n",
    "ax.scatter(x_train[(y_train==1)[0], 0], x_train[(y_train==1)[0],  1], color='b')\n",
    "ax.scatter(x_train[(y_train==0)[0], 0], x_train[(y_train==0)[0],  1], color='r')\n",
    "\n",
    "ax.set_xlabel('Dim '+str(0))\n",
    "ax.set_ylabel('Dim '+str(1))\n",
    "\n",
    "for x1 in range(px1.size):\n",
    "  for x2 in range(px2.size):\n",
    "    ax.scatter(px1[x1], px2[x2], s=3, color='k', alpha=posterior_mean[x1, x2])\n",
    "    \n",
    "gif = plt.plot"
   ]
  },
  {
   "cell_type": "code",
   "execution_count": null,
   "metadata": {
    "collapsed": true
   },
   "outputs": [],
   "source": []
  },
  {
   "cell_type": "code",
   "execution_count": null,
   "metadata": {
    "collapsed": true
   },
   "outputs": [],
   "source": []
  },
  {
   "cell_type": "markdown",
   "metadata": {},
   "source": [
    "### Posterior predictive checks"
   ]
  },
  {
   "cell_type": "code",
   "execution_count": 21,
   "metadata": {
    "collapsed": false
   },
   "outputs": [
    {
     "name": "stdout",
     "output_type": "stream",
     "text": [
      "[array([1, 1, 1, 1, 1, 1, 1, 1, 1, 1, 1, 1, 1, 1, 1, 1, 1, 1, 1, 1, 1, 1, 1,\n",
      "       1, 1, 1, 1, 1, 1, 1, 1, 1, 1, 1, 1, 1, 1, 1, 1, 1, 1, 1, 1, 1, 1, 1,\n",
      "       1, 1, 1, 1, 1, 1, 1, 1, 1, 1, 1, 1, 1, 1, 1, 1, 1, 1, 1, 1, 1, 1, 1,\n",
      "       1, 1, 1, 1, 1, 1, 1, 1, 1, 1, 1, 1, 1, 1, 1, 1, 1, 1, 1, 1, 1, 1, 1,\n",
      "       1, 1, 1, 1, 1, 1, 1, 1], dtype=int32), array([1, 1, 1, 1, 1, 1, 1, 1, 1, 1, 1, 1, 1, 1, 1, 1, 1, 1, 1, 1, 1, 1, 1,\n",
      "       1, 1, 1, 1, 1, 1, 1, 1, 1, 1, 1, 1, 1, 1, 1, 1, 1, 1, 1, 1, 1, 1, 1,\n",
      "       1, 1, 1, 1, 1, 1, 1, 1, 1, 1, 1, 1, 1, 1, 1, 1, 1, 1, 1, 1, 1, 1, 1,\n",
      "       1, 1, 1, 1, 1, 1, 1, 1, 1, 1, 1, 1, 1, 1, 1, 1, 1, 1, 1, 1, 1, 1, 1,\n",
      "       1, 1, 1, 1, 1, 1, 1, 1])]\n"
     ]
    }
   ],
   "source": [
    "def T(xs, zs):\n",
    "  return tf.reduce_max(xs[y_post])\n",
    "\n",
    "ppc_max = ed.ppc(T, data={x: x_train, y_post: y_train})\n",
    "\n",
    "T_of_data = ppc_max[1][0]\n",
    "print(ppc_max)\n",
    "\n",
    "# xplot = np.linspace(T_of_data-0.2*T_of_data, T_of_data+0.2*T_of_data, 1e2)\n",
    "\n",
    "# # kernel = gaussian_kde(ppc_max[0])\n",
    "\n",
    "# fig = plt.figure(figsize=(6,3))\n",
    "# ax = plt.subplot()\n",
    "\n",
    "# ax.axvline(T_of_data, ymin=0, ymax=10, label='T_max of data')\n",
    "# # ax.plot(xplot, kernel(xplot), label='PPD of T_max')\n",
    "\n",
    "# ax.legend(loc=1)\n",
    "\n",
    "# gif = plt.plot"
   ]
  },
  {
   "cell_type": "code",
   "execution_count": 40,
   "metadata": {
    "collapsed": false
   },
   "outputs": [
    {
     "data": {
      "image/png": "[encoded data removed]",
      "text/plain": [
       "<matplotlib.figure.Figure at 0x11d77d910>"
      ]
     },
     "metadata": {},
     "output_type": "display_data"
    }
   ],
   "source": [
    "def T(xs, zs):\n",
    "  return tf.reduce_min(xs[y_post])\n",
    "\n",
    "ppc_max = ed.ppc(T, data={X: X_train, y_post: y_train})\n",
    "\n",
    "T_of_data = ppc_max[1][0]\n",
    "\n",
    "xplot = np.linspace(T_of_data-0.2*T_of_data, T_of_data+0.2*T_of_data, 1e2)\n",
    "\n",
    "kernel = gaussian_kde(ppc_max[0])\n",
    "\n",
    "fig = plt.figure(figsize=(6,3))\n",
    "ax = plt.subplot()\n",
    "\n",
    "ax.axvline(T_of_data, ymin=0, ymax=10, label='T_min of data')\n",
    "ax.plot(xplot, kernel(xplot), label='PPD of T_min')\n",
    "\n",
    "ax.legend(loc=1)\n",
    "\n",
    "gif = plt.plot"
   ]
  },
  {
   "cell_type": "code",
   "execution_count": 41,
   "metadata": {
    "collapsed": false
   },
   "outputs": [
    {
     "data": {
      "image/png": "[encoded data removed]",
      "text/plain": [
       "<matplotlib.figure.Figure at 0x11e5ee4d0>"
      ]
     },
     "metadata": {},
     "output_type": "display_data"
    }
   ],
   "source": [
    "def T(xs, zs):\n",
    "  return tf.reduce_mean(xs[y_post])\n",
    "\n",
    "ppc_max = ed.ppc(T, data={X: X_train, y_post: y_train})\n",
    "\n",
    "T_of_data = ppc_max[1][0]\n",
    "\n",
    "xplot = np.linspace(T_of_data-0.4*T_of_data, T_of_data+0.4*T_of_data, 1e2)\n",
    "\n",
    "kernel = gaussian_kde(ppc_max[0])\n",
    "\n",
    "fig = plt.figure(figsize=(6,3))\n",
    "ax = plt.subplot()\n",
    "\n",
    "ax.axvline(T_of_data, ymin=0, ymax=10, label='T_mean of data')\n",
    "ax.plot(xplot, kernel(xplot), label='PPD of T_mean')\n",
    "\n",
    "ax.legend(loc=1)\n",
    "\n",
    "gif = plt.plot"
   ]
  },
  {
   "cell_type": "code",
   "execution_count": null,
   "metadata": {
    "collapsed": true
   },
   "outputs": [],
   "source": []
  },
  {
   "cell_type": "code",
   "execution_count": null,
   "metadata": {
    "collapsed": true
   },
   "outputs": [],
   "source": []
  },
  {
   "cell_type": "code",
   "execution_count": 25,
   "metadata": {
    "collapsed": false
   },
   "outputs": [],
   "source": [
    "# # Sample functions from variational model to visualize fits.\n",
    "# rs = np.random.RandomState(0)\n",
    "# inputs = np.linspace(-5, 5, num=400, dtype=np.float32)\n",
    "# x_viz = tf.expand_dims(tf.constant(inputs), 1)\n",
    "# mus = []\n",
    "# for s in range(25):\n",
    "#   mus += [tf.sigmoid(neural_network(x_viz, qW_0.sample(), qW_1.sample(),\n",
    "#                                     qb_0.sample(), qb_1.sample()))]\n",
    "\n",
    "# mus = tf.pack(mus)"
   ]
  },
  {
   "cell_type": "code",
   "execution_count": 26,
   "metadata": {
    "collapsed": false
   },
   "outputs": [],
   "source": [
    "# outputs = mus.eval()\n",
    "\n",
    "# posterior_mean = tf.sigmoid(neural_network(x_viz, qW_0.mean(), qW_1.mean(), qb_0.mean(), qb_1.mean())).eval()\n",
    "\n",
    "# fig = plt.figure(figsize=(10, 6))\n",
    "# ax = fig.add_subplot(111)\n",
    "# # ax.set_title(\"Iteration: 1000 - (CLOSE WINDOW TO TERMINATE)\")\n",
    "# ax.plot(x_train, y_train.T, 'ks', alpha=0.5, label='(x, y)')\n",
    "# # ax.plot(inputs, np.mean(outputs, axis=0), 'r', lw=2, alpha=0.9, label='posterior mean')\n",
    "# ax.plot(inputs, posterior_mean.T, 'r', lw=2, alpha=0.9, label='posterior mean')\n",
    "# ax.plot(inputs, np.mean(outputs, axis=0) - 2*np.std(outputs, axis=0), 'r', lw=1, alpha=0.5)\n",
    "# ax.plot(inputs, np.mean(outputs, axis=0) + 2*np.std(outputs, axis=0), 'r', lw=1, alpha=0.5)\n",
    "# # ax.plot(inputs, outputs[1:].T, 'r', lw=2, alpha=0.5)\n",
    "# # ax.set_xlim([-5, 5])\n",
    "# ax.set_ylim([-0.5, 1.5])\n",
    "# ax.legend()\n",
    "# plt.show()"
   ]
  },
  {
   "cell_type": "code",
   "execution_count": 114,
   "metadata": {
    "collapsed": false
   },
   "outputs": [
    {
     "data": {
      "image/png": "[encoded data removed]",
      "text/plain": [
       "<matplotlib.figure.Figure at 0x12aa63e50>"
      ]
     },
     "metadata": {},
     "output_type": "display_data"
    }
   ],
   "source": []
  },
  {
   "cell_type": "code",
   "execution_count": null,
   "metadata": {
    "collapsed": true
   },
   "outputs": [],
   "source": []
  }
 ],
 "metadata": {
  "kernelspec": {
   "display_name": "Python 2",
   "language": "python",
   "name": "python2"
  },
  "language_info": {
   "codemirror_mode": {
    "name": "ipython",
    "version": 2
   },
   "file_extension": ".py",
   "mimetype": "text/x-python",
   "name": "python",
   "nbconvert_exporter": "python",
   "pygments_lexer": "ipython2",
   "version": "2.7.12"
  }
 },
 "nbformat": 4,
 "nbformat_minor": 1
}
