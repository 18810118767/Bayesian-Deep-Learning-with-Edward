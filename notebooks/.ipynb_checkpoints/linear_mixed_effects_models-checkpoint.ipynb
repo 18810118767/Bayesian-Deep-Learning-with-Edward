{
 "cells": [
  {
   "cell_type": "markdown",
   "metadata": {},
   "source": [
    "# Linear Mixed Effects Models\n",
    "\n",
    "In linear mixed effects models, we wish to model a linear relationship for data points with inputs of varying type, categorized into subgroups, and associated to a continuous output.\n",
    "\n",
    "We demonstrate with an example in Edward. A webpage version is available \n",
    "[here](http://edwardlib.org/tutorials/linear-mixed-effects-models)."
   ]
  },
  {
   "cell_type": "code",
   "execution_count": 1,
   "metadata": {
    "collapsed": true
   },
   "outputs": [],
   "source": [
    "%matplotlib inline\n",
    "from __future__ import absolute_import\n",
    "from __future__ import division\n",
    "from __future__ import print_function\n",
    "\n",
    "import edward as ed\n",
    "import pandas as pd\n",
    "import tensorflow as tf\n",
    "import matplotlib.pyplot as plt\n",
    "\n",
    "from edward.models import Normal\n",
    "\n",
    "plt.style.use('ggplot')\n",
    "ed.set_seed(42)"
   ]
  },
  {
   "cell_type": "markdown",
   "metadata": {},
   "source": [
    "## Data\n",
    "\n",
    "We use the `InstEval` dataset located\n",
    "[here](https://github.com/blei-lab/edward/blob/master/examples/data/insteval.csv).\n",
    "It is a dataset of instructor evaluation ratings, where the inputs\n",
    "(covariates) include categories such as `students` and\n",
    "`departments`, and our output of interest is the instructor\n",
    "evaluation rating."
   ]
  },
  {
   "cell_type": "code",
   "execution_count": 2,
   "metadata": {
    "collapsed": false
   },
   "outputs": [
    {
     "data": {
      "text/html": [
       "<div>\n",
       "<table border=\"1\" class=\"dataframe\">\n",
       "  <thead>\n",
       "    <tr style=\"text-align: right;\">\n",
       "      <th></th>\n",
       "      <th>Unnamed: 0</th>\n",
       "      <th>s</th>\n",
       "      <th>d</th>\n",
       "      <th>studage</th>\n",
       "      <th>lectage</th>\n",
       "      <th>service</th>\n",
       "      <th>dept</th>\n",
       "      <th>y</th>\n",
       "      <th>dcodes</th>\n",
       "      <th>deptcodes</th>\n",
       "    </tr>\n",
       "  </thead>\n",
       "  <tbody>\n",
       "    <tr>\n",
       "      <th>66702</th>\n",
       "      <td>66703</td>\n",
       "      <td>2714</td>\n",
       "      <td>474</td>\n",
       "      <td>8</td>\n",
       "      <td>5</td>\n",
       "      <td>1</td>\n",
       "      <td>1</td>\n",
       "      <td>4</td>\n",
       "      <td>248</td>\n",
       "      <td>0</td>\n",
       "    </tr>\n",
       "    <tr>\n",
       "      <th>51671</th>\n",
       "      <td>51672</td>\n",
       "      <td>2074</td>\n",
       "      <td>102</td>\n",
       "      <td>8</td>\n",
       "      <td>1</td>\n",
       "      <td>1</td>\n",
       "      <td>1</td>\n",
       "      <td>2</td>\n",
       "      <td>55</td>\n",
       "      <td>0</td>\n",
       "    </tr>\n",
       "    <tr>\n",
       "      <th>35762</th>\n",
       "      <td>35763</td>\n",
       "      <td>1456</td>\n",
       "      <td>139</td>\n",
       "      <td>6</td>\n",
       "      <td>4</td>\n",
       "      <td>0</td>\n",
       "      <td>12</td>\n",
       "      <td>2</td>\n",
       "      <td>73</td>\n",
       "      <td>11</td>\n",
       "    </tr>\n",
       "    <tr>\n",
       "      <th>43777</th>\n",
       "      <td>43778</td>\n",
       "      <td>1772</td>\n",
       "      <td>2096</td>\n",
       "      <td>8</td>\n",
       "      <td>3</td>\n",
       "      <td>0</td>\n",
       "      <td>10</td>\n",
       "      <td>4</td>\n",
       "      <td>1092</td>\n",
       "      <td>9</td>\n",
       "    </tr>\n",
       "    <tr>\n",
       "      <th>4788</th>\n",
       "      <td>4789</td>\n",
       "      <td>178</td>\n",
       "      <td>554</td>\n",
       "      <td>6</td>\n",
       "      <td>6</td>\n",
       "      <td>1</td>\n",
       "      <td>6</td>\n",
       "      <td>5</td>\n",
       "      <td>290</td>\n",
       "      <td>5</td>\n",
       "    </tr>\n",
       "  </tbody>\n",
       "</table>\n",
       "</div>"
      ],
      "text/plain": [
       "       Unnamed: 0     s     d  studage  lectage  service  dept  y  dcodes  \\\n",
       "66702       66703  2714   474        8        5        1     1  4     248   \n",
       "51671       51672  2074   102        8        1        1     1  2      55   \n",
       "35762       35763  1456   139        6        4        0    12  2      73   \n",
       "43777       43778  1772  2096        8        3        0    10  4    1092   \n",
       "4788         4789   178   554        6        6        1     6  5     290   \n",
       "\n",
       "       deptcodes  \n",
       "66702          0  \n",
       "51671          0  \n",
       "35762         11  \n",
       "43777          9  \n",
       "4788           5  "
      ]
     },
     "execution_count": 2,
     "metadata": {},
     "output_type": "execute_result"
    }
   ],
   "source": [
    "# s - students - 1:2972\n",
    "# d - instructors - codes that need to be remapped\n",
    "# dept also needs to be remapped\n",
    "data = pd.read_csv('../../examples/data/insteval.csv')\n",
    "data['dcodes'] = data['d'].astype('category').cat.codes\n",
    "data['deptcodes'] = data['dept'].astype('category').cat.codes\n",
    "data['s'] = data['s'] - 1\n",
    "\n",
    "train = data.sample(frac=0.8)\n",
    "test = data.drop(train.index)\n",
    "\n",
    "train.head()"
   ]
  },
  {
   "cell_type": "code",
   "execution_count": 3,
   "metadata": {
    "collapsed": false
   },
   "outputs": [],
   "source": [
    "s_train = train['s'].values.astype(int)\n",
    "d_train = train['dcodes'].values.astype(int)\n",
    "dept_train = train['deptcodes'].values.astype(int)\n",
    "y_train = train['y'].values.astype(float)\n",
    "service_train = train['service'].values.astype(int)\n",
    "n_obs_train = train.shape[0]\n",
    "service_train.shape = [n_obs_train, 1]\n",
    "\n",
    "s_test = test['s'].values.astype(int)\n",
    "d_test = test['dcodes'].values.astype(int)\n",
    "dept_test = test['deptcodes'].values.astype(int)\n",
    "y_test = test['y'].values.astype(float)\n",
    "service_test = test['service'].values.astype(int)\n",
    "n_obs_test = test.shape[0]\n",
    "service_test.shape = [n_obs_test, 1]"
   ]
  },
  {
   "cell_type": "code",
   "execution_count": 4,
   "metadata": {
    "collapsed": false
   },
   "outputs": [],
   "source": [
    "n_s = 2972  # number of students\n",
    "n_d = 1128  # number of instructors\n",
    "n_dept = 14  # number of departments\n",
    "n_obs = train.shape[0]  # number of observations"
   ]
  },
  {
   "cell_type": "markdown",
   "metadata": {},
   "source": [
    "## Model\n",
    "\n",
    "We'd like to use a model beyond linear regression as we cannot make\n",
    "its independence assumption among data points. The observations come\n",
    "from sets of groups which may have varying slopes and intercepts\n",
    "(Gelman and Hill, 2006).\n",
    "\n",
    "For example:\n",
    "+ The observations from a single student are not independent of\n",
    "each other. Rather, some students may systematically give low (or\n",
    "high) lecture ratings.\n",
    "+ The observations from a single teacher are not independent of\n",
    "each other. We expect good teachers to get generally good ratings and\n",
    "bad teachers to get generally bad ratings.\n",
    "+ The observations from a single department are not independent of\n",
    "each other. One department may generally have dry material and thus be\n",
    "rated lower than others."
   ]
  },
  {
   "cell_type": "code",
   "execution_count": 5,
   "metadata": {
    "collapsed": true
   },
   "outputs": [],
   "source": [
    "service_X = tf.placeholder(tf.float32, [n_obs, 1])\n",
    "\n",
    "lnvar_s = Normal(mu=tf.zeros(1), sigma=tf.ones(1))\n",
    "lnvar_d = Normal(mu=tf.zeros(1), sigma=tf.ones(1))\n",
    "lnvar_dept = Normal(mu=tf.zeros(1), sigma=tf.ones(1))\n",
    "\n",
    "sigma_s = tf.sqrt(tf.exp(lnvar_s))\n",
    "sigma_d = tf.sqrt(tf.exp(lnvar_d))\n",
    "sigma_dept = tf.sqrt(tf.exp(lnvar_dept))\n",
    "\n",
    "mu = Normal(mu=tf.zeros(1), sigma=tf.ones(1))\n",
    "service = Normal(mu=tf.zeros(1), sigma=tf.ones(1))\n",
    "\n",
    "eta_s = Normal(mu=tf.zeros(n_s), sigma=sigma_s * tf.ones(n_s))\n",
    "eta_d = Normal(mu=tf.zeros(n_d), sigma=sigma_d * tf.ones(n_d))\n",
    "eta_dept = Normal(mu=tf.zeros(n_dept), sigma=sigma_dept * tf.ones(n_dept))\n",
    "\n",
    "yhat = tf.gather(eta_s, s_train) + \\\n",
    "    tf.gather(eta_d, d_train) + \\\n",
    "    tf.gather(eta_dept, dept_train) + \\\n",
    "    mu + ed.dot(service_X, service)\n",
    "y = Normal(mu=yhat, sigma=tf.ones(n_obs))"
   ]
  },
  {
   "cell_type": "markdown",
   "metadata": {},
   "source": [
    "## Inference\n",
    "\n",
    "We'll use an inference method to estimate the effects of each\n",
    "category. First, we set up our inference variables below."
   ]
  },
  {
   "cell_type": "code",
   "execution_count": 6,
   "metadata": {
    "collapsed": true
   },
   "outputs": [],
   "source": [
    "def make_normal(n):\n",
    "  var = Normal(\n",
    "      mu=tf.Variable(tf.random_normal([n])),\n",
    "      sigma=tf.nn.softplus(tf.Variable(tf.random_normal([n]))))\n",
    "  return var\n",
    "\n",
    "\n",
    "q_eta_s = make_normal(n_s)\n",
    "q_eta_d = make_normal(n_d)\n",
    "q_eta_dept = make_normal(n_dept)\n",
    "\n",
    "qlnvar_s = make_normal(1)\n",
    "qlnvar_d = make_normal(1)\n",
    "qlnvar_dept = make_normal(1)\n",
    "\n",
    "qmu = make_normal(1)\n",
    "qservice = make_normal(1)\n",
    "\n",
    "params_dict = {\n",
    "    mu: qmu,\n",
    "    service: qservice,\n",
    "    lnvar_s: qlnvar_s,\n",
    "    lnvar_d: qlnvar_d,\n",
    "    lnvar_dept: qlnvar_dept,\n",
    "    eta_s: q_eta_s,\n",
    "    eta_d: q_eta_d,\n",
    "    eta_dept: q_eta_dept\n",
    "}\n",
    "data_dict = {y: y_train, service_X: service_train}"
   ]
  },
  {
   "cell_type": "markdown",
   "metadata": {},
   "source": [
    "Now we  use an inference algorithm. For this example, we use\n",
    "variational inference with the $\\text{KL}(q\\|p)$ divergence measure."
   ]
  },
  {
   "cell_type": "code",
   "execution_count": 7,
   "metadata": {
    "collapsed": false
   },
   "outputs": [],
   "source": [
    "inference = ed.KLqp(params_dict, data_dict)\n",
    "inference.initialize(n_print=5, n_iter=50)\n",
    "\n",
    "tf.global_variables_initializer().run()\n",
    "\n",
    "for _ in range(inference.n_iter):\n",
    "  info_dict = inference.update()\n",
    "  inference.print_progress(info_dict)"
   ]
  },
  {
   "cell_type": "markdown",
   "metadata": {},
   "source": [
    "## Criticism\n",
    "\n",
    "One way to critique our model is a residual plot, i.e., a\n",
    "plot of the difference between the predicted value and the observed\n",
    "value for each data point.\n",
    "\n",
    "We first make predictions on test data."
   ]
  },
  {
   "cell_type": "code",
   "execution_count": 9,
   "metadata": {
    "collapsed": true
   },
   "outputs": [],
   "source": [
    "service_X_test = tf.placeholder(tf.float32, [n_obs_test, 1])\n",
    "yhat_test = tf.gather(q_eta_s.mean(), s_test) + \\\n",
    "    tf.gather(q_eta_d.mean(), d_test) + \\\n",
    "    tf.gather(q_eta_dept.mean(), dept_test) + \\\n",
    "    qmu.mean() + ed.dot(service_X_test, qservice.mean())\n",
    "    \n",
    "yhat_vals = yhat_test.eval(feed_dict={service_X_test: service_test})"
   ]
  },
  {
   "cell_type": "markdown",
   "metadata": {},
   "source": [
    "We then plot the residuals."
   ]
  },
  {
   "cell_type": "code",
   "execution_count": 10,
   "metadata": {
    "collapsed": false
   },
   "outputs": [
    {
     "data": {
      "image/png": "[encoded data removed]",
      "text/plain": [
       "<matplotlib.figure.Figure at 0x11487f810>"
      ]
     },
     "metadata": {},
     "output_type": "display_data"
    }
   ],
   "source": [
    "plt.title(\"Residuals for Predicted Ratings on Test Set\")\n",
    "plt.xlim(-4, 4)\n",
    "plt.ylim(0, 800)\n",
    "plt.hist(yhat_vals - y_test, 75)\n",
    "plt.show()"
   ]
  },
  {
   "cell_type": "markdown",
   "metadata": {},
   "source": [
    "The residuals are normally distributed with mean 0. This provides\n",
    "evidence that the model's specification is correct."
   ]
  }
 ],
 "metadata": {
  "anaconda-cloud": {},
  "kernelspec": {
   "display_name": "Python 2",
   "language": "python",
   "name": "python2"
  },
  "language_info": {
   "codemirror_mode": {
    "name": "ipython",
    "version": 2
   },
   "file_extension": ".py",
   "mimetype": "text/x-python",
   "name": "python",
   "nbconvert_exporter": "python",
   "pygments_lexer": "ipython2",
   "version": "2.7.12"
  }
 },
 "nbformat": 4,
 "nbformat_minor": 1
}
