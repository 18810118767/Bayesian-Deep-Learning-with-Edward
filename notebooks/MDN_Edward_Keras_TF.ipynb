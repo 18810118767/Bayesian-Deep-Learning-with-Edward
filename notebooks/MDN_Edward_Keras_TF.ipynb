{
 "cells": [
  {
   "cell_type": "markdown",
   "metadata": {},
   "source": [
    "# Mixture Density Networks with Edward, Keras and TensorFlow\n",
    "\n",
    "This notebook will explain how to implement Mixture Density Networks (MDN) with Edward, Keras and TensorFlow\n",
    "One note to keep in mind, if you want to use Keras and TensorFlow like we will do in this post you need to set the backend of Keras to TensorFlow, [here](http://keras.io/backend/) it is explained how to do that.\n",
    "\n",
    "In you are not familiar with MDNs have a look at the [following blog post](http://cbonnett.github.io/MDN.html)\n",
    "\n",
    "Edward implements many probability distribution functions that are TensorFlow compatible, this makes it attractive to use for MDN's.  \n",
    "\n",
    "Here are all the distributions that are currently implemented in Edward, there are more to come:\n",
    "\n",
    "1. [Bernoulli](https://github.com/blei-lab/edward/blob/master/edward/stats/distributions.py#L49)\n",
    "2. [Beta](https://github.com/blei-lab/edward/blob/master/edward/stats/distributions.py#L58)\n",
    "3. [Binomial](https://github.com/blei-lab/edward/blob/master/edward/stats/distributions.py#L68)\n",
    "4. [Chi Squared](https://github.com/blei-lab/edward/blob/master/edward/stats/distributions.py#L79)\n",
    "5. [Dirichlet](https://github.com/blei-lab/edward/blob/master/edward/stats/distributions.py#L89)\n",
    "6. [Exponential](https://github.com/blei-lab/edward/blob/master/edward/stats/distributions.py#L109)\n",
    "7. [Gamma](https://github.com/blei-lab/edward/blob/master/edward/stats/distributions.py#L118)\n",
    "8. [Geometric](https://github.com/blei-lab/edward/blob/master/edward/stats/distributions.py#L129)\n",
    "9. [Inverse Gamma](https://github.com/blei-lab/edward/blob/master/edward/stats/distributions.py#L138)\n",
    "10. [log Normal](https://github.com/blei-lab/edward/blob/master/edward/stats/distributions.py#L155)\n",
    "11. [Multinomial](https://github.com/blei-lab/edward/blob/master/edward/stats/distributions.py#L165)\n",
    "12. [Multivariate Normal](https://github.com/blei-lab/edward/blob/master/edward/stats/distributions.py#L194)\n",
    "13. [Negative Binomial](https://github.com/blei-lab/edward/blob/master/edward/stats/distributions.py#L283)\n",
    "14. [Normal](https://github.com/blei-lab/edward/blob/master/edward/stats/distributions.py#L294)\n",
    "15. [Poisson](https://github.com/blei-lab/edward/blob/master/edward/stats/distributions.py#L310)\n",
    "16. [Student-t](https://github.com/blei-lab/edward/blob/master/edward/stats/distributions.py#L319)\n",
    "17. [Truncated Normal](https://github.com/blei-lab/edward/blob/master/edward/stats/distributions.py#L333)\n",
    "18. [Uniform](https://github.com/blei-lab/edward/blob/master/edward/stats/distributions.py#L352)\n",
    "\n",
    "Which all can be used to make a Mixture Density Networks."
   ]
  },
  {
   "cell_type": "code",
   "execution_count": 3,
   "metadata": {
    "collapsed": false
   },
   "outputs": [],
   "source": [
    "# imports\n",
    "%matplotlib inline\n",
    "import matplotlib.pyplot as plt\n",
    "import seaborn as sns\n",
    "\n",
    "import edward as ed\n",
    "import numpy as np\n",
    "import tensorflow as tf\n",
    "\n",
    "from edward.stats import norm # normal distrubtion from Edward ! \n",
    "from keras import backend as K\n",
    "from keras.layers import Dense\n",
    "from sklearn.cross_validation import train_test_split"
   ]
  },
  {
   "cell_type": "markdown",
   "metadata": {},
   "source": [
    "We will need some fucntion to plot the results later on, these are defined in the next code block. "
   ]
  },
  {
   "cell_type": "code",
   "execution_count": 4,
   "metadata": {
    "collapsed": true
   },
   "outputs": [],
   "source": [
    "# Helper functions\n",
    "from scipy.stats import norm as normal\n",
    "def plot_normal_mix(pis, mus, sigmas, ax, label='', comp=True):\n",
    "    \"\"\"\n",
    "    Plots the mixture of Normal models to axis=ax\n",
    "    comp=True plots all components of mixtur model\n",
    "    \"\"\"\n",
    "    x = np.linspace(-10.5, 10.5, 250)\n",
    "    final = np.zeros_like(x)\n",
    "    for i, (weight_mix, mu_mix, sigma_mix) in enumerate(zip(pis, mus, sigmas)):\n",
    "        temp = normal.pdf(x, mu_mix, sigma_mix) * weight_mix\n",
    "        final = final + temp\n",
    "        if comp:\n",
    "            ax.plot(x, temp, label='Normal ' + str(i))\n",
    "    ax.plot(x, final, label='Mixture of Normals ' + label)\n",
    "    ax.legend(fontsize=13)\n",
    "    \n",
    "def sample_from_mixture(x, pred_weights, pred_means, pred_std, amount):\n",
    "    \"\"\"\n",
    "    Draws samples from mixture model. \n",
    "    Returns 2 d array with input X and sample from prediction of Mixture Model\n",
    "    \"\"\"\n",
    "    samples = np.zeros((amount, 2))\n",
    "    n_mix = len(pred_weights[0])\n",
    "    to_choose_from = np.arange(n_mix)\n",
    "    for j,(weights, means, std_devs) in enumerate(zip(pred_weights, pred_means, pred_std)):\n",
    "        index = np.random.choice(to_choose_from, p=weights)\n",
    "        samples[j,1]= normal.rvs(means[index], std_devs[index], size=1)\n",
    "        samples[j,0]= x[j]\n",
    "        if j == amount -1:\n",
    "            break\n",
    "    return samples"
   ]
  },
  {
   "cell_type": "markdown",
   "metadata": {},
   "source": [
    "## Make some toy-data to play with.\n",
    "\n",
    "This is the same toy-data problem set as used in the [blog post](http://blog.otoro.net/2015/11/24/mixture-density-networks-with-tensorflow/) by Otoro where he explains MDNs. This is an inverse problem as you can see, for every ```X``` there are multiple possible ```y``` solutions."
   ]
  },
  {
   "cell_type": "code",
   "execution_count": 5,
   "metadata": {
    "collapsed": false
   },
   "outputs": [
    {
     "name": "stdout",
     "output_type": "stream",
     "text": [
      "Size of features in training data: (4000, 1)\n",
      "Size of output in training data: (4000, 1)\n",
      "Size of features in test data: (36000, 1)\n",
      "Size of output in test data: (36000, 1)\n"
     ]
    },
    {
     "data": {
      "text/plain": [
       "<matplotlib.axes._subplots.AxesSubplot at 0x10e5bf8d0>"
      ]
     },
     "execution_count": 5,
     "metadata": {},
     "output_type": "execute_result"
    },
    {
     "data": {
      "image/png": "[encoded data removed]",
      "text/plain": [
       "<matplotlib.figure.Figure at 0x10e5db690>"
      ]
     },
     "metadata": {},
     "output_type": "display_data"
    }
   ],
   "source": [
    "def build_toy_dataset(nsample=40000):\n",
    "    y_data = np.float32(np.random.uniform(-10.5, 10.5, (1, nsample))).T\n",
    "    r_data = np.float32(np.random.normal(size=(nsample,1))) # random noise\n",
    "    x_data = np.float32(np.sin(0.75*y_data)*7.0+y_data*0.5+r_data*1.0)\n",
    "    return train_test_split(x_data, y_data, random_state=42, train_size=0.1)\n",
    "\n",
    "X_train, X_test, y_train, y_test = build_toy_dataset()\n",
    "print(\"Size of features in training data: {:s}\".format(X_train.shape))\n",
    "print(\"Size of output in training data: {:s}\".format(y_train.shape))\n",
    "print(\"Size of features in test data: {:s}\".format(X_test.shape))\n",
    "print(\"Size of output in test data: {:s}\".format(y_test.shape))\n",
    "\n",
    "sns.regplot(X_train, y_train, fit_reg=False)"
   ]
  },
  {
   "cell_type": "markdown",
   "metadata": {},
   "source": [
    "### Build the MDN using Keras and TF\n",
    "\n",
    "We will define a class that can be used to construct MDNs. We will be using a mixture of Normal Distributions.\n",
    "The advantage of defining a class is that we can easily reuse this to build other MDNs with different amount of\n",
    "mixture components. Furthermore, this makes it play nicely with Edward."
   ]
  },
  {
   "cell_type": "code",
   "execution_count": 6,
   "metadata": {
    "collapsed": true
   },
   "outputs": [],
   "source": [
    "class MixtureDensityNetwork:\n",
    "    \"\"\"\n",
    "    Mixture density network for outputs y on inputs x.\n",
    "    p((x,y), (z,theta))\n",
    "    = sum_{k=1}^K pi_k(x; theta) Normal(y; mu_k(x; theta), sigma_k(x; theta))\n",
    "    where pi, mu, sigma are the output of a neural network taking x\n",
    "    as input and with parameters theta. There are no latent variables\n",
    "    z, which are hidden variables we aim to be Bayesian about.\n",
    "    \"\"\"\n",
    "    def __init__(self, K):\n",
    "        self.K = K # here K is the amount of Mixtures \n",
    "\n",
    "    def mapping(self, X):\n",
    "        \"\"\"pi, mu, sigma = NN(x; theta)\"\"\"\n",
    "        hidden1 = Dense(15, activation='relu')(X)  # fully-connected layer with 15 hidden units\n",
    "        hidden2 = Dense(15, activation='relu')(hidden1) \n",
    "        self.mus = Dense(self.K)(hidden2) # the means \n",
    "        self.sigmas = Dense(self.K, activation=K.exp)(hidden2) # the variance\n",
    "        self.pi = Dense(self.K, activation=K.softmax)(hidden2) # the mixture components\n",
    "\n",
    "    def log_prob(self, xs, zs=None):\n",
    "        \"\"\"log p((xs,ys), (z,theta)) = sum_{n=1}^N log p((xs[n,:],ys[n]), theta)\"\"\"\n",
    "        # Note there are no parameters we're being Bayesian about. The\n",
    "        # parameters are baked into how we specify the neural networks.\n",
    "        X, y = xs\n",
    "        self.mapping(X)\n",
    "        result = tf.exp(norm.logpdf(y, self.mus, self.sigmas))\n",
    "        result = tf.mul(result, self.pi)\n",
    "        result = tf.reduce_sum(result, 1)\n",
    "        result = tf.log(result)\n",
    "        return tf.reduce_sum(result)"
   ]
  },
  {
   "cell_type": "markdown",
   "metadata": {},
   "source": [
    "We can set a seed in Edward so we can reproduce all the random components, this sets the seed in numpy and TensorFlow under the [hood](https://github.com/blei-lab/edward/blob/master/edward/util.py#L191).\n",
    "We use the class we defined above to initiate the MDN with 20 mixtures, this now can be used as an Edward model."
   ]
  },
  {
   "cell_type": "code",
   "execution_count": 7,
   "metadata": {
    "collapsed": false
   },
   "outputs": [],
   "source": [
    "ed.set_seed(42)\n",
    "model = MixtureDensityNetwork(20)"
   ]
  },
  {
   "cell_type": "markdown",
   "metadata": {},
   "source": [
    "In the following code cell we define the TensorFlow place holders that are then use to define the Edward data model.\n",
    "The following line passes the ```model``` and ```data``` to ```MAP``` from Edward which is then used to initialise the TensorFlow variables. \n",
    "\n",
    "```inference = ed.MAP(model, data)``` \n",
    "\n",
    "MAP is a Bayesian concepts and stands for Maximum A Posteriori, it tries to find the set of parameters which maximize the posterior distribution. In the example here we don't have a prior, in a Bayesian context this means we have a flat prior. For a flat prior MAP is equivalent to Maximum Likelihood estimation. Edward is designed to be Bayesian about it's statistial inference. The cool thing about MDN's with Edward  is that we could easily include priors! "
   ]
  },
  {
   "cell_type": "code",
   "execution_count": null,
   "metadata": {
    "collapsed": false
   },
   "outputs": [
    {
     "data": {
      "text/plain": [
       "<tensorflow.python.client.session.Session at 0x10e779bd0>"
      ]
     },
     "execution_count": 8,
     "metadata": {},
     "output_type": "execute_result"
    }
   ],
   "source": [
    "X = tf.placeholder(tf.float32, shape=(None, 1))\n",
    "y = tf.placeholder(tf.float32, shape=(None, 1))\n",
    "data = ed.Data([X, y]) # Make Edward Data model\n",
    "\n",
    "inference = ed.MAP(model, data) # Make the inference model\n",
    "sess = tf.Session() # start TF session \n",
    "K.set_session(sess) # pass session info to Keras\n",
    "inference.initialize(sess=sess) # initialize all TF variables using the Edward interface "
   ]
  },
  {
   "cell_type": "markdown",
   "metadata": {},
   "source": [
    "Having done that we can train the MDN in TensorFlow just like we normally would, and we can get out the predictions we are interested in from ```model``` in this case \n",
    "\n",
    "* ```model.pi``` the mixture components, \n",
    "* ```model.mus``` the means,\n",
    "* ```model.sigmas``` the standard  deviations.   \n",
    "\n",
    "This is done in the last line of the code cell :\n",
    "```\n",
    "pred_weights, pred_means, pred_std = sess.run([model.pi, model.mus, model.sigmas], feed_dict={X: X_test})\n",
    "```\n",
    "\n",
    "The default minimisation technique used is ADAM with a decaying scale factor.\n",
    "This can be seen [here](https://github.com/blei-lab/edward/blob/master/edward/inferences.py#L94) in the code base of Edward. Having a decaying scale factor is not the standard way of using ADAM, this is inspired by the Automatic Differentiation Variational Inference [(ADVI)](http://arxiv.org/abs/1603.00788) work where it was used in the RMSPROP minimizer.      \n",
    "\n",
    "The loss that is minimised in the ```MAP``` model from Edward is the negative log-likelihood, this calculation used the  ```log_prob``` method in the ```MixtureDensityNetwork``` class we defined above. \n",
    "The ```build_loss``` method in the ```MAP``` class can be found [here](https://github.com/blei-lab/edward/blob/master/edward/inferences.py#L396). \n",
    "\n",
    "However the method ```inference.loss``` used below, returns the log-likelihood, so we expect this quantity to maximized. "
   ]
  },
  {
   "cell_type": "code",
   "execution_count": null,
   "metadata": {
    "collapsed": false
   },
   "outputs": [],
   "source": [
    "NEPOCH = 1000\n",
    "train_loss = np.zeros(NEPOCH)\n",
    "test_loss = np.zeros(NEPOCH)\n",
    "for i in range(NEPOCH):\n",
    "    _, train_loss[i] = sess.run([inference.train, inference.loss],\n",
    "                                feed_dict={X: X_train, y: y_train})\n",
    "    test_loss[i] = sess.run(inference.loss, feed_dict={X: X_test, y: y_test})\n",
    "    \n",
    "pred_weights, pred_means, pred_std = sess.run([model.pi, model.mus, model.sigmas], feed_dict={X: X_test})"
   ]
  },
  {
   "cell_type": "markdown",
   "metadata": {},
   "source": [
    "We can plot the log-likelihood of the training and test sample as function of training epoch.\n",
    "Keep in mind that ```inference.loss``` returns the total log-likelihood, so not the loss per data point, so in the plotting routine we divide by the size of the train and test data respectively. \n",
    "We see that it converges after 400-500 training steps."
   ]
  },
  {
   "cell_type": "code",
   "execution_count": null,
   "metadata": {
    "collapsed": false
   },
   "outputs": [],
   "source": [
    "fig, axes = plt.subplots(nrows=1, ncols=1, figsize=(16, 3.5))\n",
    "plt.plot(np.arange(NEPOCH), test_loss/len(X_test), label='Test')\n",
    "plt.plot(np.arange(NEPOCH), train_loss/len(X_train), label='Train')\n",
    "plt.legend(fontsize=20)\n",
    "plt.xlabel('Epoch', fontsize=15)\n",
    "plt.ylabel('Log-likelihood', fontsize=15)"
   ]
  },
  {
   "cell_type": "markdown",
   "metadata": {},
   "source": [
    "Next we can have a look at how some individual examples perform. Keep in mind this is an inverse problem\n",
    "so we can't get the answer correct, we can hope that the truth lies in area where the model has high probability.\n",
    "In the next plot the truth is the vertical grey line while the blue line is the prediction of the mixture denstiy network. As you can see, we didn't do too bad."
   ]
  },
  {
   "cell_type": "code",
   "execution_count": null,
   "metadata": {
    "collapsed": false
   },
   "outputs": [],
   "source": [
    "obj = [0, 4, 6]\n",
    "fig, axes = plt.subplots(nrows=3, ncols=1, figsize=(16, 6))\n",
    "\n",
    "plot_normal_mix(pred_weights[obj][0], pred_means[obj][0], pred_std[obj][0], axes[0], comp=False)\n",
    "axes[0].axvline(x=y_test[obj][0], color='black', alpha=0.5)\n",
    "\n",
    "plot_normal_mix(pred_weights[obj][2], pred_means[obj][2], pred_std[obj][2], axes[1], comp=False)\n",
    "axes[1].axvline(x=y_test[obj][2], color='black', alpha=0.5)\n",
    "\n",
    "plot_normal_mix(pred_weights[obj][1], pred_means[obj][1], pred_std[obj][1], axes[2], comp=False)\n",
    "axes[2].axvline(x=y_test[obj][1], color='black', alpha=0.5)"
   ]
  },
  {
   "cell_type": "markdown",
   "metadata": {},
   "source": [
    "We can check the ensemble by drawing samples of the prediction and plotting the density of those. \n",
    "Seems the MDN learned what it needed too."
   ]
  },
  {
   "cell_type": "code",
   "execution_count": null,
   "metadata": {
    "collapsed": false
   },
   "outputs": [],
   "source": [
    "a = sample_from_mixture(X_test, pred_weights, pred_means, pred_std, amount=len(X_test))\n",
    "sns.jointplot(a[:,0], a[:,1], kind=\"hex\", color=\"#4CB391\", ylim=(-10,10), xlim=(-14,14))"
   ]
  },
  {
   "cell_type": "code",
   "execution_count": null,
   "metadata": {
    "collapsed": true
   },
   "outputs": [],
   "source": []
  }
 ],
 "metadata": {
  "kernelspec": {
   "display_name": "Python 2",
   "language": "python",
   "name": "python2"
  },
  "language_info": {
   "codemirror_mode": {
    "name": "ipython",
    "version": 2
   },
   "file_extension": ".py",
   "mimetype": "text/x-python",
   "name": "python",
   "nbconvert_exporter": "python",
   "pygments_lexer": "ipython2",
   "version": "2.7.11"
  }
 },
 "nbformat": 4,
 "nbformat_minor": 0
}
