{
 "cells": [
  {
   "cell_type": "markdown",
   "metadata": {},
   "source": [
    "## Supervised Example (Neural Network Logistic Regression)"
   ]
  },
  {
   "cell_type": "code",
   "execution_count": 1,
   "metadata": {
    "collapsed": false
   },
   "outputs": [],
   "source": [
    "from __future__ import absolute_import\n",
    "from __future__ import division\n",
    "from __future__ import print_function\n",
    "\n",
    "import edward as ed\n",
    "import numpy as np\n",
    "import six\n",
    "import tensorflow as tf\n",
    "\n",
    "from edward.models import Normal, Bernoulli\n",
    "from edward.stats import norm, bernoulli\n",
    "from edward.util import rbf\n",
    "\n",
    "import matplotlib.pyplot as plt\n",
    "%matplotlib inline\n",
    "plt.style.use(['ggplot', 'seaborn-white'])\n",
    "import itertools\n",
    "\n",
    "import scipy\n",
    "from scipy.stats import gaussian_kde"
   ]
  },
  {
   "cell_type": "code",
   "execution_count": 2,
   "metadata": {
    "collapsed": false
   },
   "outputs": [],
   "source": [
    "ed.set_seed(42)"
   ]
  },
  {
   "cell_type": "markdown",
   "metadata": {
    "collapsed": true
   },
   "source": [
    "### Simulate data with nonlinear decision boundary"
   ]
  },
  {
   "cell_type": "code",
   "execution_count": 3,
   "metadata": {
    "collapsed": false
   },
   "outputs": [
    {
     "data": {
      "image/png": "[encoded data removed]",
      "text/plain": [
       "<matplotlib.figure.Figure at 0x10662d250>"
      ]
     },
     "metadata": {},
     "output_type": "display_data"
    }
   ],
   "source": [
    "N = 100\n",
    "D = 2\n",
    "\n",
    "px1 = np.linspace(-3, 3, 50)\n",
    "px2 = np.linspace(-3, 3, 50)\n",
    "\n",
    "px1_m, px2_m = np.mgrid[-3:3:50j, -3:3:50j]\n",
    "\n",
    "xeval = np.vstack((px1_m.flatten(), px2_m.flatten())).T\n",
    "x_viz = tf.constant(np.array(xeval, dtype='float32'))\n",
    "\n",
    "def build_toy_dataset(N):\n",
    "  x = xeval[np.random.randint(xeval.shape[0],size=N),:]\n",
    "  y = bernoulli.rvs( p=scipy.stats.logistic.cdf( 5*x[:,0]**2 + 5*x[:,1]**3 ) ) \n",
    "  return x, y\n",
    "\n",
    "x_train, y_train = build_toy_dataset(N)\n",
    "\n",
    "fig = plt.figure(figsize=(5, 5))\n",
    "ax = plt.subplot()\n",
    "\n",
    "ax.scatter(x_train[(y_train==1)[0], 0], x_train[(y_train==1)[0],  1], color='b')\n",
    "ax.scatter(x_train[(y_train==0)[0], 0], x_train[(y_train==0)[0],  1], color='r')\n",
    "\n",
    "gif = plt.plot\n",
    "plt.savefig('lr_data.pdf', bbox_inches='tight')"
   ]
  },
  {
   "cell_type": "markdown",
   "metadata": {
    "collapsed": true
   },
   "source": [
    "## Neural Network Logistic Model"
   ]
  },
  {
   "cell_type": "code",
   "execution_count": 4,
   "metadata": {
    "collapsed": true
   },
   "outputs": [],
   "source": [
    "def neural_network(x, W_0, W_1, W_2, b_0, b_1, b_2):\n",
    "    h = tf.nn.tanh(tf.matmul(x, W_0) + b_0)\n",
    "    h = tf.nn.tanh(tf.matmul(h, W_1) + b_1)\n",
    "    h = tf.matmul(h, W_2) + b_2\n",
    "    return tf.reshape(h, [-1])\n",
    "\n",
    "L = 2\n",
    "\n",
    "W_0 = Normal(mu=tf.zeros([D, L]), sigma=tf.ones([D, L]))\n",
    "W_1 = Normal(mu=tf.zeros([L, L]), sigma=tf.ones([L, L]))\n",
    "W_2 = Normal(mu=tf.zeros([L, 1]), sigma=tf.ones([L, 1]))\n",
    "b_0 = Normal(mu=tf.zeros(L), sigma=tf.ones(L))\n",
    "b_1 = Normal(mu=tf.zeros(L), sigma=tf.ones(L))\n",
    "b_2 = Normal(mu=tf.zeros(1), sigma=tf.ones(1))\n",
    "\n",
    "x = tf.convert_to_tensor(x_train, dtype=tf.float32)\n",
    "y = Bernoulli(logits=neural_network(x, W_0, W_1, W_2, b_0, b_1, b_2))"
   ]
  },
  {
   "cell_type": "markdown",
   "metadata": {},
   "source": [
    "### Define Variational Approximation Distributions"
   ]
  },
  {
   "cell_type": "code",
   "execution_count": 5,
   "metadata": {
    "collapsed": true
   },
   "outputs": [],
   "source": [
    "qW_0 = Normal(mu=tf.Variable(tf.random_normal([D, L])),\n",
    "              sigma=tf.nn.softplus(tf.Variable(tf.random_normal([D, L]))))\n",
    "qW_1 = Normal(mu=tf.Variable(tf.random_normal([L, L])),\n",
    "              sigma=tf.nn.softplus(tf.Variable(tf.random_normal([L, L]))))\n",
    "qW_2 = Normal(mu=tf.Variable(tf.random_normal([L, 1])),\n",
    "              sigma=tf.nn.softplus(tf.Variable(tf.random_normal([L, 1]))))\n",
    "qb_0 = Normal(mu=tf.Variable(tf.random_normal([L])),\n",
    "              sigma=tf.nn.softplus(tf.Variable(tf.random_normal([L]))))\n",
    "qb_1 = Normal(mu=tf.Variable(tf.random_normal([L])),\n",
    "              sigma=tf.nn.softplus(tf.Variable(tf.random_normal([L]))))\n",
    "qb_2 = Normal(mu=tf.Variable(tf.random_normal([1])),\n",
    "              sigma=tf.nn.softplus(tf.Variable(tf.random_normal([1]))))\n",
    "\n",
    "data = {y: y_train}\n",
    "inference = ed.MFVI({W_0: qW_0, b_0: qb_0,\n",
    "                     W_1: qW_1, b_1: qb_1,\n",
    "                     W_2: qW_2, b_2: qb_2}, data)"
   ]
  },
  {
   "cell_type": "markdown",
   "metadata": {},
   "source": [
    "### Run Variational Inference"
   ]
  },
  {
   "cell_type": "code",
   "execution_count": 19,
   "metadata": {
    "collapsed": false
   },
   "outputs": [
    {
     "name": "stdout",
     "output_type": "stream",
     "text": [
      "Iteration    1 [  0%]: Loss = 194.850\n",
      "Iteration  100 [ 10%]: Loss = 37.821\n",
      "Iteration  200 [ 20%]: Loss = 36.563\n",
      "Iteration  300 [ 30%]: Loss = 39.428\n",
      "Iteration  400 [ 40%]: Loss = 45.458\n",
      "Iteration  500 [ 50%]: Loss = 37.403\n",
      "Iteration  600 [ 60%]: Loss = 36.024\n",
      "Iteration  700 [ 70%]: Loss = 37.496\n",
      "Iteration  800 [ 80%]: Loss = 38.265\n",
      "Iteration  900 [ 90%]: Loss = 35.820\n",
      "Iteration 1000 [100%]: Loss = 37.725\n"
     ]
    }
   ],
   "source": [
    "sess = ed.get_session()\n",
    "init = tf.initialize_all_variables()\n",
    "inference.run(n_iter=1000, n_print=100, n_samples=5)"
   ]
  },
  {
   "cell_type": "markdown",
   "metadata": {},
   "source": [
    "### Model Criticism (point-wise evaluations)"
   ]
  },
  {
   "cell_type": "code",
   "execution_count": 20,
   "metadata": {
    "collapsed": true
   },
   "outputs": [],
   "source": [
    "y_post = ed.copy(y, {W_0: qW_0.mean(), b_0: qb_0.mean(),       \n",
    "                     W_1: qW_1.mean(), b_1: qb_1.mean(),\n",
    "                     W_2: qW_2.mean(), b_1: qb_2.mean()})"
   ]
  },
  {
   "cell_type": "code",
   "execution_count": 21,
   "metadata": {
    "collapsed": false
   },
   "outputs": [
    {
     "name": "stdout",
     "output_type": "stream",
     "text": [
      "Log likelihood on training data:\n",
      "-0.170941\n",
      "\n",
      "Binary accuracy on training data:\n",
      "0.81\n"
     ]
    }
   ],
   "source": [
    "print('Log likelihood on training data:')\n",
    "print(ed.evaluate('log_lik', data={x: x_train, y_post: y_train}))\n",
    "print()\n",
    "print('Binary accuracy on training data:')\n",
    "print(ed.evaluate('binary_accuracy', data={x: x_train, y_post: y_train}))"
   ]
  },
  {
   "cell_type": "markdown",
   "metadata": {},
   "source": [
    "### Visualize posterior decision boundary"
   ]
  },
  {
   "cell_type": "code",
   "execution_count": 22,
   "metadata": {
    "collapsed": false
   },
   "outputs": [],
   "source": [
    "posterior_mean = tf.sigmoid(neural_network(x_viz, qW_0.mean(), qW_1.mean(), qW_2.mean(), \n",
    "                                                  qb_0.mean(), qb_1.mean(), qb_2.mean())).eval()\n",
    "posterior_mean = posterior_mean.reshape(px1.size, px2.size)"
   ]
  },
  {
   "cell_type": "code",
   "execution_count": 23,
   "metadata": {
    "collapsed": false
   },
   "outputs": [
    {
     "data": {
      "image/png": "[encoded data removed]",
      "text/plain": [
       "<matplotlib.figure.Figure at 0x122e31110>"
      ]
     },
     "metadata": {},
     "output_type": "display_data"
    }
   ],
   "source": [
    "fig = plt.figure(figsize=(5, 5))\n",
    "ax = plt.subplot()\n",
    "\n",
    "ax.scatter(x_train[(y_train==1)[0], 0], x_train[(y_train==1)[0],  1], color='b')\n",
    "ax.scatter(x_train[(y_train==0)[0], 0], x_train[(y_train==0)[0],  1], color='r')\n",
    "\n",
    "for x1 in range(px1.size):\n",
    "  for x2 in range(px2.size):\n",
    "    ax.scatter(px1[x1], px2[x2], marker=\"s\", s=3, color='k', alpha=posterior_mean[x1, x2])\n",
    "    \n",
    "gif = plt.plot\n",
    "plt.savefig('lr_nn.pdf', bbox_inches='tight')"
   ]
  },
  {
   "cell_type": "markdown",
   "metadata": {},
   "source": [
    "## Vanilla Logistic Regression"
   ]
  },
  {
   "cell_type": "code",
   "execution_count": 24,
   "metadata": {
    "collapsed": true
   },
   "outputs": [],
   "source": [
    "W = Normal(mu=tf.zeros(D), sigma=tf.ones(D))\n",
    "b = Normal(mu=tf.zeros(1), sigma=tf.ones(1))\n",
    "\n",
    "x = tf.convert_to_tensor(x_train, dtype=tf.float32)\n",
    "y = Bernoulli(logits=(ed.dot(x, W) + b))"
   ]
  },
  {
   "cell_type": "code",
   "execution_count": 25,
   "metadata": {
    "collapsed": true
   },
   "outputs": [],
   "source": [
    "qW = Normal(mu=tf.Variable(tf.random_normal([D])),\n",
    "            sigma=tf.nn.softplus(tf.Variable(tf.random_normal([D]))))\n",
    "qb = Normal(mu=tf.Variable(tf.random_normal([1])),\n",
    "            sigma=tf.nn.softplus(tf.Variable(tf.random_normal([1]))))"
   ]
  },
  {
   "cell_type": "code",
   "execution_count": 26,
   "metadata": {
    "collapsed": false
   },
   "outputs": [],
   "source": [
    "data = {y: y_train}\n",
    "inference = ed.MFVI({W: qW, b: qb}, data)"
   ]
  },
  {
   "cell_type": "code",
   "execution_count": 27,
   "metadata": {
    "collapsed": false
   },
   "outputs": [
    {
     "name": "stdout",
     "output_type": "stream",
     "text": [
      "Iteration    1 [  0%]: Loss = 159.910\n",
      "Iteration  100 [ 10%]: Loss = 29.756\n",
      "Iteration  200 [ 20%]: Loss = 29.102\n",
      "Iteration  300 [ 30%]: Loss = 28.903\n",
      "Iteration  400 [ 40%]: Loss = 29.005\n",
      "Iteration  500 [ 50%]: Loss = 30.240\n",
      "Iteration  600 [ 60%]: Loss = 31.508\n",
      "Iteration  700 [ 70%]: Loss = 29.795\n",
      "Iteration  800 [ 80%]: Loss = 28.998\n",
      "Iteration  900 [ 90%]: Loss = 29.626\n",
      "Iteration 1000 [100%]: Loss = 28.932\n"
     ]
    }
   ],
   "source": [
    "sess = ed.get_session()\n",
    "init = tf.initialize_all_variables()\n",
    "inference.run(n_iter=1000, n_print=100, n_samples=5)"
   ]
  },
  {
   "cell_type": "code",
   "execution_count": 1,
   "metadata": {
    "collapsed": false
   },
   "outputs": [
    {
     "ename": "NameError",
     "evalue": "name 'ed' is not defined",
     "output_type": "error",
     "traceback": [
      "\u001b[0;31m---------------------------------------------------------------------------\u001b[0m",
      "\u001b[0;31mNameError\u001b[0m                                 Traceback (most recent call last)",
      "\u001b[0;32m<ipython-input-1-2d77f3f54d58>\u001b[0m in \u001b[0;36m<module>\u001b[0;34m()\u001b[0m\n\u001b[0;32m----> 1\u001b[0;31m y_post = ed.copy(y, {W_0: qW_0.mean(), b_0: qb_0.mean(),       \n\u001b[0m\u001b[1;32m      2\u001b[0m                      \u001b[0mW_1\u001b[0m\u001b[0;34m:\u001b[0m \u001b[0mqW_1\u001b[0m\u001b[0;34m.\u001b[0m\u001b[0mmean\u001b[0m\u001b[0;34m(\u001b[0m\u001b[0;34m)\u001b[0m\u001b[0;34m,\u001b[0m \u001b[0mb_1\u001b[0m\u001b[0;34m:\u001b[0m \u001b[0mqb_1\u001b[0m\u001b[0;34m.\u001b[0m\u001b[0mmean\u001b[0m\u001b[0;34m(\u001b[0m\u001b[0;34m)\u001b[0m\u001b[0;34m,\u001b[0m\u001b[0;34m\u001b[0m\u001b[0m\n\u001b[1;32m      3\u001b[0m                      W_2: qW_2.mean(), b_1: qb_2.mean()})\n\u001b[1;32m      4\u001b[0m \u001b[0;34m\u001b[0m\u001b[0m\n\u001b[1;32m      5\u001b[0m \u001b[0;32mprint\u001b[0m\u001b[0;34m(\u001b[0m\u001b[0;34m'Plugin estimate of posterior predictive log accuracy on training data:'\u001b[0m\u001b[0;34m)\u001b[0m\u001b[0;34m\u001b[0m\u001b[0m\n",
      "\u001b[0;31mNameError\u001b[0m: name 'ed' is not defined"
     ]
    }
   ],
   "source": [
    "y_post = ed.copy(y, {W: qW.mean(), b: qb.mean()})\n",
    "\n",
    "print('Log likelihood on training data:')\n",
    "print(ed.evaluate('log_lik', data={x: x_train, y_post: y_train}))\n",
    "print()\n",
    "print('Binary accuracy on training data:')\n",
    "print(ed.evaluate('binary_accuracy', data={x: x_train, y_post: y_train}))"
   ]
  },
  {
   "cell_type": "code",
   "execution_count": 30,
   "metadata": {
    "collapsed": false
   },
   "outputs": [],
   "source": [
    "posterior_mean = tf.sigmoid(ed.dot(x_viz, qW.mean())+ qb.mean()).eval()\n",
    "posterior_mean = posterior_mean.reshape(px1.size, px2.size)"
   ]
  },
  {
   "cell_type": "code",
   "execution_count": 31,
   "metadata": {
    "collapsed": false
   },
   "outputs": [
    {
     "data": {
      "image/png": "[encoded data removed]",
      "text/plain": [
       "<matplotlib.figure.Figure at 0x1293d7e90>"
      ]
     },
     "metadata": {},
     "output_type": "display_data"
    }
   ],
   "source": [
    "fig = plt.figure(figsize=(5, 5))\n",
    "ax = plt.subplot()\n",
    "\n",
    "ax.scatter(x_train[(y_train==1)[0], 0], x_train[(y_train==1)[0],  1], color='b')\n",
    "ax.scatter(x_train[(y_train==0)[0], 0], x_train[(y_train==0)[0],  1], color='r')\n",
    "\n",
    "for x1 in range(px1.size):\n",
    "  for x2 in range(px2.size):\n",
    "    ax.scatter(px1[x1], px2[x2], marker=\"s\", s=3, color='k', alpha=posterior_mean[x1, x2])\n",
    "    \n",
    "gif = plt.plot\n",
    "plt.savefig('lr_linear.pdf', bbox_inches='tight')"
   ]
  },
  {
   "cell_type": "code",
   "execution_count": null,
   "metadata": {
    "collapsed": true
   },
   "outputs": [],
   "source": []
  }
 ],
 "metadata": {
  "kernelspec": {
   "display_name": "Python 2",
   "language": "python",
   "name": "python2"
  },
  "language_info": {
   "codemirror_mode": {
    "name": "ipython",
    "version": 2
   },
   "file_extension": ".py",
   "mimetype": "text/x-python",
   "name": "python",
   "nbconvert_exporter": "python",
   "pygments_lexer": "ipython2",
   "version": "2.7.12"
  }
 },
 "nbformat": 4,
 "nbformat_minor": 1
}
